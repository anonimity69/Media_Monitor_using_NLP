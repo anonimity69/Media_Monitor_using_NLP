{
 "cells": [
  {
   "cell_type": "code",
   "execution_count": 40,
   "id": "80f0a4b3",
   "metadata": {},
   "outputs": [
    {
     "name": "stdout",
     "output_type": "stream",
     "text": [
      "Enter name\n",
      "Apple\n",
      "https://www.sitejabber.com/reviews/apple.com\n"
     ]
    }
   ],
   "source": [
    "try:\n",
    "    from googlesearch import search\n",
    "except ImportError:\n",
    "    print(\"No module named 'google' found\")\n",
    " \n",
    "# to search\n",
    "name = input('Enter name\\n')\n",
    "query = name+\"Reviews\"\n",
    "url=[]\n",
    " \n",
    "for j in search(query, tld=\"co.in\", num=10, stop=10, pause=2):\n",
    "    url.append(j)\n",
    "print(url[0])"
   ]
  },
  {
   "cell_type": "code",
   "execution_count": 41,
   "id": "ab3aaafd",
   "metadata": {},
   "outputs": [],
   "source": [
    "import requests\n",
    "import nltk\n",
    "from bs4 import BeautifulSoup\n",
    "import numpy as np \n",
    "import pandas as pd \n",
    "import seaborn as sns\n",
    "import matplotlib.pyplot as plt\n",
    "%matplotlib inline\n",
    "import random\n",
    "from wordcloud import WordCloud\n",
    "import os\n",
    "import spacy\n",
    "nlp = spacy.load('en_core_web_sm')\n",
    "from textblob import TextBlob\n",
    "from pattern.en import sentiment"
   ]
  },
  {
   "cell_type": "code",
   "execution_count": 4,
   "id": "4f3fa4c0",
   "metadata": {},
   "outputs": [],
   "source": [
    "r=requests.get(url[0])"
   ]
  },
  {
   "cell_type": "code",
   "execution_count": 5,
   "id": "e85ba5e9",
   "metadata": {},
   "outputs": [],
   "source": [
    "r.encoding = 'utf-8'"
   ]
  },
  {
   "cell_type": "code",
   "execution_count": 6,
   "id": "9be1bb44",
   "metadata": {},
   "outputs": [],
   "source": [
    "html = r.text"
   ]
  },
  {
   "cell_type": "code",
   "execution_count": 7,
   "id": "0b686ff7",
   "metadata": {},
   "outputs": [
    {
     "name": "stdout",
     "output_type": "stream",
     "text": [
      "<!DOCTYPE html>\n",
      "<html lang=\"en\" prefix=\"fb: http://www.facebook.com/2008/fbml#\">\n",
      "<head prefix=\"og: http://ogp.me/ns# fb: http://ogp.me/ns/fb# business: http://ogp.me/ns/business#\">\n",
      "\t<meta charset=\"utf-8\">\n",
      "\t<meta http-equiv=\"X-UA-Compatible\" content=\"IE=edge\">\n",
      "\t<meta name=\"viewport\" content=\"width=device-width, initial-scale=1, minimum-scale=1, maximum-scale=5, user-scalable=1\">\n",
      "\n",
      "<script></script>\n",
      "\n",
      "\t\t<title>Apple Reviews - 1,826 Reviews of Apple.com | Sitejabber</title>\n",
      "\t\t<meta name=\"description\"\n"
     ]
    }
   ],
   "source": [
    "print(html[:500])"
   ]
  },
  {
   "cell_type": "code",
   "execution_count": 8,
   "id": "3dee7988",
   "metadata": {},
   "outputs": [],
   "source": [
    "# Creating a BeautifulSoup object from the HTML\n",
    "soup = BeautifulSoup(html)\n",
    "# Getting the text out of the soup\n",
    "text = soup.get_text()"
   ]
  },
  {
   "cell_type": "code",
   "execution_count": 9,
   "id": "df3db2b3",
   "metadata": {},
   "outputs": [
    {
     "data": {
      "text/plain": [
       "32169"
      ]
     },
     "execution_count": 9,
     "metadata": {},
     "output_type": "execute_result"
    }
   ],
   "source": [
    "len(text)"
   ]
  },
  {
   "cell_type": "code",
   "execution_count": 10,
   "id": "9d580848",
   "metadata": {},
   "outputs": [
    {
     "name": "stdout",
     "output_type": "stream",
     "text": [
      "\n",
      "\n",
      "\n",
      "\n",
      "\n",
      "\n",
      "\n",
      "\n",
      "\n",
      "\n",
      "\n",
      "\n",
      "\n",
      "\n",
      "\t\t\tBy using Sitejabber, you agree to our Terms of Service and Privacy Policy. We use cookies for analytics, personalization, and ads.\n",
      "\t\t\n",
      " \n",
      "\n",
      " \n",
      "\n",
      "\n",
      "\n",
      "\n",
      "\n",
      "\n",
      "\n",
      "\n",
      "\n",
      "\n",
      "\n",
      "\n",
      "\n",
      "\n",
      "\n",
      "\n",
      "\n",
      "\n",
      "\n",
      "Login \n",
      "\n",
      "Signup \n",
      "\n",
      "\n",
      "For Business \n",
      "\n",
      "\n",
      "\n",
      "\n",
      "Login \n",
      "\n",
      "Signup \n",
      "\n",
      "\n",
      "Write a Review\n",
      "For Business\n",
      " Write a Review \n",
      "\n",
      "\n",
      "\n",
      "\n",
      "\n",
      "\n",
      "\n",
      "\n",
      "\n",
      "\n",
      " \n",
      "\n",
      "\n",
      "Browse Businesses \n",
      "\n",
      "Categories \n",
      "\n",
      "Best of 2021 \n",
      "\n",
      "\n",
      "\n",
      "Guides \n",
      "\n",
      "How to Spot a Trustworthy Website \n",
      "\n",
      "Dating Apps \n",
      "\n",
      "Shopping Discount Fashion \n",
      "\n",
      "Discount Clothing \n",
      "\n",
      "Discount Designer Clothing \n",
      "\n",
      "Affordable Wedding Dresses \n",
      "\n",
      "Affordable Activewear for Women \n",
      "\n",
      "Plus-Size Swimwear \n",
      "\n",
      "COVID-19 Resources \n",
      "\n",
      "\n",
      "\n",
      "Beauty & Fashion \n",
      "\n",
      "Beauty Home \n",
      "\n",
      "Consumer Advocates \n",
      "\n",
      "Rewards Program \n",
      "\n",
      "\n",
      "\n",
      "Consumer Tips \n",
      "\n",
      "Write a Review \n",
      "\n",
      "For Business \n",
      "\n",
      "Request a Review \n",
      "\n",
      "Discussions \n",
      "\n",
      "Backed by the National Science Foundation\n",
      " \n",
      "\n",
      "Sign up \n",
      "\n",
      "Log in \n",
      "\n",
      "\n",
      "\n",
      "\n",
      "\n",
      "\n",
      "\n",
      " \n",
      "\n",
      "\n",
      "\n",
      "\n",
      "\n",
      "\n",
      "\n",
      "\n",
      "\n",
      "Computers & TechnologyConsumer ElectronicsElectronics \n",
      "\n",
      "\n",
      "\n",
      "Share \n",
      "\n",
      "\n",
      " Share on Facebook\n",
      " \n",
      " Share on Twitter\n",
      " \n",
      "\n",
      "\n",
      "\n",
      "\n",
      "Done\n",
      " \n",
      "\n",
      "\n",
      "Bookmark \n",
      "\n",
      "Apple\n",
      "\n",
      "\n",
      "Add a note (optional - e.g. to review, to t\n"
     ]
    }
   ],
   "source": [
    "print(text[100:1100])"
   ]
  },
  {
   "cell_type": "code",
   "execution_count": 11,
   "id": "ec22a242",
   "metadata": {},
   "outputs": [],
   "source": [
    "clean_text= text.replace(\"n\", \" \")\n",
    "clean_text= clean_text.replace(\"/\", \" \")       \n",
    "clean_text= ''.join([c for c in clean_text if c != \"'\"])"
   ]
  },
  {
   "cell_type": "code",
   "execution_count": 12,
   "id": "40643179",
   "metadata": {},
   "outputs": [
    {
     "data": {
      "text/plain": [
       "'\\n\\n\\n\\n\\n\\nApple Reviews - 1,826 Reviews of Apple.com | Sitejabber\\n \\n\\n\\n\\n\\n\\n\\n\\n\\n\\n\\n\\n\\n\\n\\n\\n\\n\\n\\n\\n\\n\\n\\n\\n\\n\\n\\n \\n \\n\\n\\n\\n\\n\\n\\n\\n\\n\\n\\n\\n\\n\\n\\n\\n\\n\\n\\n\\n\\n\\t\\t\\tBy usi g Sitejabber, you agree to our Terms of Service a d Privacy Policy. We use cookies for a alytics, perso alizatio , a d ads.\\n\\t\\t\\n \\n\\n \\n\\n\\n\\n\\n\\n\\n\\n\\n\\n\\n\\n\\n\\n\\n\\n\\n\\n\\n\\nLogi  \\n\\nSig up \\n\\n\\nFor Busi ess \\n\\n\\n\\n\\nLogi  \\n\\nSig up \\n\\n\\nWrite a Review\\nFor Busi ess\\n Write a Review \\n\\n\\n\\n\\n\\n\\n\\n\\n\\n\\n \\n\\n\\nBrowse Busi esses \\n\\nCategories \\n\\nBest of 2021 \\n\\n\\n\\nGuides \\n\\nHow to Spot a Trustworthy Website \\n\\nDati g Apps \\n\\nShoppi g Discou t Fashio  \\n\\nDiscou t Clothi g \\n\\nDiscou t Desig er Clothi g \\n\\nAffordable Weddi g Dresses \\n\\nAffordable Activewear for Wome  \\n\\nPlus-Size Swimwear \\n\\nCOVID-19 Resources \\n\\n\\n\\nBeauty & Fashio  \\n\\nBeauty Home \\n\\nCo sumer Advocates \\n\\nRewards Program \\n\\n\\n\\nCo sumer Tips \\n\\nWrite a Review \\n\\nFor Busi ess \\n\\nRequest a Review \\n\\nDiscussio s \\n\\nBacked by the Natio al Scie ce Fou datio \\n \\n\\nSig  up \\n\\nLog i  \\n\\n\\n\\n\\n\\n\\n\\n \\n\\n\\n\\n\\n\\n\\n\\n\\n\\nComputers & Tech ologyCo sumer Electro icsElectro ics \\n\\n\\n\\nShare \\n\\n\\n Share o  Facebook\\n \\n Share o  Twitter\\n \\n\\n\\n\\n\\nDo e\\n \\n\\n\\nBookmark \\n\\nApple\\n\\n\\nAdd a  ote (optio al - e.g. to review, to try)\\nBookmark\\nCa cel\\n \\n \\n\\n\\n\\n\\n\\n\\n\\n\\n\\n\\n\\n\\n\\n\\n\\n\\n2018 CUSTOMER CHOICE AWARD\\n\\n\\n\\nApple\\nIs this your busi ess?\\n\\n\\n\\n\\n\\n\\n\\n\\n\\n\\n\\n\\n\\n\\n\\n1,826 reviews\\t\\t\\t\\t\\t\\n\\n\\n www.apple.com \\n\\nWrite a Review\\nAsk a Questio  \\n\\n\\n\\nRati gs O  Other Platforms\\n\\t\\t\\t\\t\\t\\n\\n\\n\\n\\n\\n\\n\\t\\t\\t\\t\\t\\t\\t\\t\\t\\tTrustpilot\\t\\t\\t\\t\\t\\t\\t\\t\\t\\t\\n\\n\\n\\n\\n \\n\\n1.6\\n \\xa05\\n\\n\\n\\n\\n\\n\\t\\t\\t\\t\\t\\t\\t\\t\\t\\tBetter Busi ess Bureau\\t\\t\\t\\t\\t\\t\\t\\t\\t\\t\\n\\n\\n\\n\\n \\n\\n1.1\\n \\xa05\\n\\n\\n\\n\\n\\n\\n\\n\\nCorporate Values\\n\\n\\n dummy  \\n\\n dummy  \\n\\n\\n\\n\\n \\nCorporate Values\\n\\n\\n\\n\\n\\n\\n\\n\\n\\n\\n\\n\\n\\nWrite a Review Ask a Questio  \\n\\n\\n\\n\\nOverview\\n\\n\\n\\n\\t\\t\\t\\t\\t\\tApple has a co sumer rati g of 3.48 stars from 1,826 reviews i dicati g that most customers are ge erally satisfied with their purchases. Apple ra ks 15th amo g Electro ics sites.\\t\\t\\t\\t\\t\\n\\n\\n\\nService\\n\\n\\n\\n\\n\\n\\n\\n\\n\\n\\n\\n\\n\\n258\\n\\n\\nValue\\n\\n\\n\\n\\n\\n\\n\\n\\n\\n\\n\\n\\n\\n246\\n\\n\\nShippi g\\n\\n\\n\\n\\n\\n\\n\\n\\n\\n\\n\\n\\n\\n181\\n\\n\\nRetur s\\n\\n\\n\\n\\n\\n\\n\\n\\n\\n\\n\\n\\n\\n177\\n\\n\\nQuality\\n\\n\\n\\n\\n\\n\\n\\n\\n\\n\\n\\n\\n\\n246\\n\\n\\n\\n\\n\\nPositive reviews (last 12 mo ths): 14.1%\\n\\n\\n\\nPositive\\n\\n\\n\\n26\\n\\n\\nNeutral\\n\\n\\t\\t\\t\\t\\t\\t\\t\\t\\t\\t–\\n\\t\\t\\t\\t\\t\\t\\t\\t\\t\\n8\\n\\n\\nNegative\\n\\n\\n\\n150\\n\\n\\n\\n View rati gs tre ds \\n\\n\\n\\n\\n\\n\\n\\n\\n \\n\\n\\n\\n\\n\\n\\n\\n\\n\\n \\n\\n\\n\\n\\n\\n\\n \\n\\n \\n\\n\\n\\n \\n\\n\\n\\n\\n\\n \\n\\n\\n\\n\\n\\n \\n\\n\\n\\n\\n\\n \\n\\n\\n\\n\\n\\n \\n\\n\\n\\n\\n\\n \\n\\n\\n\\n\\n\\n \\n\\n\\n\\n 90\\t\\t\\t\\t\\t\\t\\nSee all photos \\n\\n\\n\\nWhat reviewers wa t you to k ow\\n\\n\\nPositive highlights\\n\\n\\n\\nI love the Apple products... iPho e, iPod, a d iPad.\\n\\n\\n\\nI love Apple products a d I would recomme d usi g the service a d  ot worryi g about mishaps.\\n\\n\\n\\n2018 Customer Choice Wi  er\\n\\n\\n\\n\\nCritical highlights\\n\\n\\n\\nThe worst customer service I have ever come across.\\n\\n\\n\\nI absolutely hate goi g i to the mess a d crush of huma ity that is the Apple store.\\n\\n\\n\\nI also hated the payme ts a d my apple id; PAYING FOR THE APPS ALMOST GOT MY CREDIT CARD EMPTY (OF MONEY)!\\n\\n\\n\\n\\n\\n\\n\\n\\n\\nReviews \\n\\nQ&A \\n\\n\\n\\n\\nHow would you rate Apple?\\n\\n\\n\\n\\n\\n\\n\\n\\n\\n\\n\\n\\n\\n\\n\\n\\n\\n\\n\\n\\n\\n\\n\\n\\n\\n\\n\\n\\n\\nTop Positive Review\\n“High Quality Tech Products At High Prices”\\n\\n\\n\\n\\n\\n\\n\\n\\n\\n\\n\\n\\n\\nChris\\xa0P.\\n6 26 22\\n\\n\\nI have bought my Airtags, ipho e 12 Pro Max, Magic Keyboard, a d Magic Mouse 2 all directly from the Apple website (a d picked them up i -store). The websites UI is super simple a d well orga ized, which makes the o li e shoppi g experie ce so much better. The prices are extremely high, but i  my opi io , you get what you pay for. I am  ow o  my seco d Macbook ( o lo ger stored i  orders o  the site because I bought it back i  2019). My first lasted 8 years a d Im hopi g to have my seco d o e for just as lo g if  ot lo ger. Every other laptop bra d Ive had (HP, Dell, Le ovo, a d IBM) just is t up to par a d always, ALWAYS has problems. Its worth payi g the higher prices to  ot have to deal with the headaches. Plus, eve  if your warra ty ru s out, if you go to a  Apple store, they still try to help you with whatever your product is,  o matter how old it is. Now that is high quality customer service.\\n\\nSee positive reviews \\n\\nTop Critical Review\\n“I pho e 12”\\n\\n\\n\\n\\n\\n\\n\\n\\n\\n\\n\\n\\n\\nA o ymous\\xa0S.\\n8 9 22\\n\\n\\nWar i g customer of +15 Apple o ly wa ts your mo ey to fix their pho es they did a diag ostics o  my I pho e 12, o ly to fi d its  ot i  \"warra ty \" basically you pay mo ey for them to fix it or they do t eve  if its a cause of the pho e  ot worki g. The diag ostics was I  eed a  ew scree  si ce the touch scree  stopped worki g properly o e day, a d the cost was $365 dollars Ca adia ! Apple does t care about customer loyalty or satisfactio  whe  they make billio s this is outrageous\\n\\nSee critical reviews \\n\\nReviews (1,826)\\n\\n\\n \\n\\n\\n  \\n\\nSort by:Releva tNewest to OldestHelpfulRati g \\n\\n\\n\\nRati g\\n\\n\\n5 stars  844 4 stars  227 3 stars  151 2 stars  96 1 star  490 \\n \\n\\n\\nTimeframe\\nAll timePast weekPast mo thPast 6 mo thsPast year\\n\\n\\nOther\\nVerified purchase Verified site experie ce Co tai s image or video E glish o ly \\n\\n\\nReviews that me tio  popular keywords\\n\\n\\t\\t\\t\\t\\t\\t\\tcustomer service (163)\\n\\t\\t\\t\\t\\t\\t\\n\\n\\t\\t\\t\\t\\t\\t\\tapple products (189)\\n\\t\\t\\t\\t\\t\\t\\n\\n\\t\\t\\t\\t\\t\\t\\tapple store (97)\\n\\t\\t\\t\\t\\t\\t\\n\\n\\t\\t\\t\\t\\t\\t\\tcredit card (18)\\n\\t\\t\\t\\t\\t\\t\\n\\n\\t\\t\\t\\t\\t\\t\\tapple support (31)\\n\\t\\t\\t\\t\\t\\t\\n\\n\\t\\t\\t\\t\\t\\t\\tlove apple (73)\\n\\t\\t\\t\\t\\t\\t\\n\\n\\t\\t\\t\\t\\t\\t\\tapple fa  (23)\\n\\t\\t\\t\\t\\t\\t\\n\\n  \\n\\n\\n\\n\\n\\n\\n\\n\\n\\n \\n\\n\\n\\nA o ymous\\xa0S. \\n\\n\\n\\n1 review\\n\\n\\n\\n0 helpful votes\\n\\n\\n\\n\\nShare \\n\\nMessage \\n\\n\\n\\n \\n\\nReport \\n\\n\\n\\n\\n\\n\\n“I pho e 12” \\n\\n\\n\\n\\n\\n\\n\\n\\n\\n\\n\\n\\n\\n\\n\\n\\t\\t\\t\\t\\tAugust 9th, 2022\\t\\t\\t\\t\\n\\n\\n\\nWar i g customer of +15 Apple o ly wa ts your mo ey to fix their pho es they did a diag ostics o  my I pho e 12, o ly to fi d its  ot i  \"warra ty \" basically you pay mo ey for them to fix it or they do t eve  if its a cause of the pho e  ot worki g. The diag ostics was I  eed a  ew scree  si ce the touch scree  stopped worki g properly o e day, a d the cost was $365 dollars Ca adia ! Apple does t care about customer loyalty or satisfactio  whe  they make billio s this is outrageous\\n\\nProducts used:I’ve bought multiple iPad a d iPads a d the  ew iPho es are made for very cheap a d customers pay quad triple the amou t it costs to make\\n\\n\\n\\n\\n\\n\\n\\n\\n\\n\\n\\n\\n\\n\\n\\n\\nService\\n\\n\\n\\n\\n\\n\\n\\n\\n\\n\\n\\n\\n\\n\\n\\nValue\\n\\n\\n\\n\\n\\n\\n\\n\\n\\n\\n\\n\\n\\n\\n\\nQuality\\n\\n\\n\\n\\n\\n\\n\\n\\n\\n\\n\\n\\n\\nComme t \\n\\n Tha k you \\n\\nRespo d as compa y \\n\\n Share \\n\\n \\n\\n\\n\\n Helpful  (0)\\n\\n  Tha k you \\n\\n\\n\\n\\n\\n\\n\\n \\n\\n\\n\\n\\n\\n\\n\\n\\n\\n\\n\\n\\n\\n\\n \\n\\n\\n\\nHoi\\xa0K. \\n\\n\\n\\n1 review\\n\\n\\n\\n11 helpful votes\\n\\n\\n\\n\\nShare \\n\\nMessage \\n\\n\\n\\n\\n\\nReport \\n\\n\\n\\n\\n\\n\\n“Rip off. I wa t to give zero star if I may!” \\n\\n\\n\\n\\n\\n\\n\\n\\n\\n\\n\\n\\n\\n\\n\\n\\t\\t\\t\\t\\tJu e 4th, 2021\\t\\t\\t\\t\\n\\n\\n\\nBought a Macbook a few years ago. A d it just died for  o reaso . Not the battery but was told could be somethi g wro g with the logic board. Tried all sorts of reset with support to  o avail. Was told had to be se t away for repair with a  estimated cost of over £420! I have always used Wi dows laptop or PC a d they  ever die. I ca  use them u til they are too slow for the latest OS a d I have to upgrade.\\n\\nProducts used:Nothi g\\n\\n\\n\\n\\n\\n\\n\\n\\n\\n\\n\\n\\n\\n\\n\\n\\nService\\n\\n\\n\\n\\n\\n\\n\\n\\n\\n\\n\\n\\n\\n\\n\\nValue\\n\\n\\n\\n\\n\\n\\n\\n\\n\\n\\n\\n\\n\\n\\n\\nQuality\\n\\n\\n\\n\\n\\n\\n\\n\\n\\n\\n\\n\\n\\nComme t \\n\\n Tha k you \\n\\nRespo d as compa y \\n\\n Share \\n\\n \\n\\n\\n\\n Helpful  (11)\\n\\n Tha k you \\n\\n\\n\\n\\n\\n\\n\\n\\n\\n\\n\\n\\n\\n\\n \\n\\n\\n\\nGia  a\\xa0R. \\n\\n\\n\\n1 review\\n\\n\\n\\n1 helpful vote\\n\\n\\n\\n\\nShare \\n\\nMessage \\n\\n\\n\\n\\n\\nReport \\n\\n\\n\\n\\n\\n\\n“Trade i  item” \\n\\n\\n\\n\\n\\n\\n\\n\\n\\n\\n\\n\\n\\n\\n\\n\\t\\t\\t\\t\\tJuly 10th, 2022\\t\\t\\t\\t\\n\\n\\n\\nDo  ot believe what Apple tell you for the trade i . They lie to make sure you do t get a y credit. A d the customer service are dam  bad, they do t say a ythi g right. They se d the trade i  case late o  purpose for you  ot to get the trade i . A d they say they received it late! After 2 week (wi dow trade i ). But customer service says the time cou t whe  you receive the trade i  kit. Pure trash! Just 0 rate for them. Zero star what they deserve.\\n\\nProducts used:Computer\\n\\n\\n\\n\\n\\n\\n\\n\\n\\n\\n\\n\\n\\n\\n\\n\\nQuality\\n\\n\\n\\n\\n\\n\\n\\n\\n\\n\\n\\nComme t \\n\\n Tha k you \\n\\nRespo d as compa y \\n\\n Share \\n\\n \\n\\n\\n\\n Helpful  (1)\\n\\n Tha k you \\n\\n\\n\\n\\n\\n\\n\\n\\n\\n\\n\\n\\n\\n\\n \\n\\n\\n\\na tho y\\xa0g. \\n\\n\\n\\n1 review\\n\\n\\n\\n9 helpful votes\\n\\n\\n\\n\\nShare \\n\\nMessage \\n\\n\\n\\n\\n\\nReport \\n\\n\\n\\n\\n\\n\\n“Purchased bra d  ew pho e that came with private i formatio  o  previous ow er. Hmm!” \\n\\n\\n\\n\\n\\n\\n\\n\\n\\n\\n\\n\\n\\n\\n\\n\\t\\t\\t\\t\\tDecember 28th, 2021\\t\\t\\t\\t\\n\\n\\t\\t\\t\\t\\tVerified purchase \\n\\n\\n\\n\\nI bought a bra d  ew iPho e 13 pro from apple.com. It came i  with someo e elses credit card i formatio  o  the apple wallet. I would go shoppi g but Im  ot that guy. I called a d asked for a co ve ie t resolutio  a d they did t have o e. I have to go dow  to a retailer a d have them excha ge i stead of se di g a  ew o e out. A d i  additio  they do t have the pho e I ordered a ywhere. It is blata t disregard for the privacy act. Buyer beware. They lost a 15 year dedicated apple family of 4. Hello Samsu g\\n\\n\\n\\n\\n\\n\\nComme t \\n\\n Tha k you \\n\\nRespo d as compa y \\n\\n Share \\n\\n \\n\\n\\n\\n Helpful  (9)\\n\\n Tha k you \\n\\n\\n\\n\\n\\n\\n\\n\\n\\n\\n\\n\\n\\n\\n \\n\\n\\n\\nWilliam\\xa0B. \\n\\n\\n\\n2 reviews\\n\\n\\n\\n0 helpful votes\\n\\n\\n\\n\\nShare \\n\\nMessage \\n\\n\\n\\n\\n\\nReport \\n\\n\\n\\n\\n\\n\\n“Do  ot trust this compa y with  othi g do t purchase their iCloud serves as its simply a waste of $” \\n\\n\\n\\n\\n\\n\\n\\n\\n\\n\\n\\n\\n\\n\\n\\n\\t\\t\\t\\t\\tAugust 11th, 2022\\t\\t\\t\\t\\n\\n\\n\\nDo  ot trust this compa y with  othi g do t purchase their iCloud serves as its simply a waste of mo ey as i was told by a compa y age t that by purchasi g the iCloud i would  ever lose my pictures a d they would be safe eve  if I lost my pho e!? As i have rece tly fou d that is defia tly i correct a d would suggest to stay away from this compa y a d take your busi ess elsewhere as Samsu g has better serves tha  apple a y day they also are supported by google witch is o e of the best places to store your i formatio !\\n\\nTip for co sumers:do  ot waste your mo ey o  this compa y they are scam artist a d o ly wa t your mo ey\\nProducts used:icloud for the last 3 years\\n\\n\\n\\n\\n\\n\\n\\n\\n\\n\\n\\n\\n\\n\\n\\n\\nService\\n\\n\\n\\n\\n\\n\\n\\n\\n\\n\\n\\n\\n\\n\\n\\nValue\\n\\n\\n\\n\\n\\n\\n\\n\\n\\n\\n\\n\\n\\n\\n\\nShippi g\\n\\n\\n\\n\\n\\n\\n\\n\\n\\n\\n\\n\\n\\n\\n\\n\\n\\nRetur s\\n\\n\\n\\n\\n\\n\\n\\n\\n\\n\\n\\n\\n\\n\\n\\nQuality\\n\\n\\n\\n\\n\\n\\n\\n\\n\\n \\n\\n\\n\\n \\n\\n\\n\\n\\n\\nComme t \\n\\n Tha k you \\n\\nRespo d as compa y \\n\\n Share \\n\\n \\n\\n\\n\\n Helpful  (0)\\n\\n Tha k you \\n\\n\\n\\n\\n\\n\\n\\n\\n\\n\\n\\n\\n\\n\\n \\n\\n\\n\\nLily\\xa0D. \\n\\n\\n\\n1 review\\n\\n\\n\\n1 helpful vote\\n\\n\\n\\n\\nShare \\n\\nMessage \\n\\n\\n\\n\\n\\nReport \\n\\n\\n\\n\\n\\n\\n“False advertisi g” \\n\\n\\n\\n\\n\\n\\n\\n\\n\\n\\n\\n\\n\\n\\n\\n\\t\\t\\t\\t\\tJuly 4th, 2022\\t\\t\\t\\t\\n\\n\\n\\nApple advertises water resista t however my iPho e 13 max pro($1000. 00 pho e) was water damaged from bei g splashed I was  ot o ly i co ve ie ced but had to pay $100 a d use o e of my i cide ts through Apple care I do  ot thi k I should have bee  held liable for somethi g that is r as water resista t I feel like this advertiseme t is a mo ey grab a d I feel extremely scammed by apple. While payi g o ly $100 for a replaceme t pho e is great it could have bee  avoided if the proper advisi g or war i g were provided.\\n\\n\\n\\n\\n\\n\\nComme t \\n\\n Tha k you \\n\\nRespo d as compa y \\n\\n Share \\n\\n \\n\\n\\n\\n Helpful  (1)\\n\\n Tha k you \\n\\n\\n\\n\\n\\n\\n\\n\\n\\n\\n\\n\\n\\n\\n \\n\\n\\n\\nOscar\\xa0A. \\n\\n\\n\\n2 reviews\\n\\n\\n\\n16 helpful votes\\n\\n\\n\\n\\nShare \\n\\nMessage \\n\\n\\n\\n\\n\\nReport \\n\\n\\n\\n\\n\\n\\n“Great device” \\n\\n\\n\\n\\n\\n\\n\\n\\n\\n\\n\\n\\n\\n\\n\\n\\t\\t\\t\\t\\tJa uary 14th, 2020\\t\\t\\t\\t\\n\\n\\n\\nI am so excited usi g IPho e 11! Camera, all apps for se di g messages, editi g photos a d other sources, which it has, make my life easier. It seems like I have a perso al assista t who regulates the whole my daily routi e. Now I am goi g to buy a Macbook. However, I am co fused a little bit, because the variety of models impresses me. But it is just a matter of time. Soo  I will be a happy ow er of  ew electro ic assista t. What ca  be better?\\n\\n\\n\\n\\nComme t \\n\\n Tha k you \\n\\nRespo d as compa y \\n\\n Share \\n\\n \\n\\n\\n\\n Helpful  (15)\\n\\n Tha k you \\n\\n\\n\\n\\n\\n\\n\\n\\n\\n\\n\\n\\n\\n\\n \\n\\n\\n\\nA to io\\xa0V. \\n\\n\\n\\n1 review\\n\\n\\n\\n0 helpful votes\\n\\n\\n\\n\\nShare \\n\\nMessage \\n\\n\\n\\n\\n\\nReport \\n\\n\\n\\n\\n\\n\\n“Terrible products” \\n\\n\\n\\n\\n\\n\\n\\n\\n\\n\\n\\n\\n\\n\\n\\n\\t\\t\\t\\t\\tAugust 5th, 2022\\t\\t\\t\\t\\n\\n\\n\\n3 bra d  ew iPad Pro 10.5 lasted o ly three mo ths each due to heavy gami g scree  became u respo sive to touch, I got a Samsu g tab s6 after that a d it lasted 2 years with  othi g goi g wro g,  ow iPho e 12 Pro over heats all the time scree  also u respo sive at times a d rear camera has stopped worki g due to hardware problem, good bye apple Im goi g back to Samsu g.\\n\\n\\n\\n\\nComme t \\n\\n Tha k you \\n\\nRespo d as compa y \\n\\n Share \\n\\n \\n\\n\\n\\n Helpful  (0)\\n\\n Tha k you \\n\\n\\n\\n\\n\\n\\n\\n\\n\\n\\n\\n\\n\\n\\n \\n\\n\\n\\nJ\\xa0A. \\n\\n\\n\\n1 review\\n\\n\\n\\n4 helpful votes\\n\\n\\n\\n\\nShare \\n\\nMessage \\n\\n\\n\\n\\n\\nReport \\n\\n\\n\\n\\n\\n\\n“3 Useless Ipho es 13 a d 13 Pro” \\n\\n\\n\\n\\n\\n\\n\\n\\n\\n\\n\\n\\n\\n\\n\\n\\t\\t\\t\\t\\tDecember 19th, 2021\\t\\t\\t\\t\\n\\n\\n\\nDo  ot believe the hype\\nMy family of 5 purchased 6 bra d  ew devices of which o ly three work properly.\\nNo resolutio  from Apple whatsoever. Basically were stuck with faulty, glitchy, overheati g lemo s that freeze ofte . My pho e is froze  u til someo e Calls Me\\nDo  ot fall for Apples lies\\nWe could have purchased cheap pho es that would have actually worked. Im carryi g arou d a brick  ot a pho e because its useless much of the time.\\n\\n\\n\\n\\nComme t \\n\\n Tha k you \\n\\nRespo d as compa y \\n\\n Share \\n\\n \\n\\n\\n\\n Helpful  (4)\\n\\n Tha k you \\n\\n\\n\\n\\n\\n\\n\\n\\n\\n\\n\\n\\n\\n\\n \\n\\n\\n\\nCo  er\\xa0B. \\n\\n\\n\\n1 review\\n\\n\\n\\n1 helpful vote\\n\\n\\n\\n\\nShare \\n\\nMessage \\n\\n\\n\\n\\n\\nReport \\n\\n\\n\\n\\n\\n\\n“Trash” \\n\\n\\n\\n\\n\\n\\n\\n\\n\\n\\n\\n\\n\\n\\n\\n\\t\\t\\t\\t\\tJu e 17th, 2022\\t\\t\\t\\t\\n\\n\\n\\nI hate apple. Every mo th they take out of my ba k accou t sig ifica tly more tha  Ive bought. Its becomi g ridiculous but why try a d reach out a d ask why whe  they have the worst respo se team i  the world. Apple is garbage a d Im looki g i to switchi g to a droid. Im sure they would t steal mo ey the way apple does. Im so frustrated with this compa y. Ho estly, apple go f yourself\\n\\n\\n\\n\\n\\n\\n\\n\\n\\n\\n\\n\\n\\n\\n\\n\\n\\nService\\n\\n\\n\\n\\n\\n\\n\\n\\n\\n\\n\\n\\n\\n\\n\\nValue\\n\\n\\n\\n\\n\\n\\n\\n\\n\\n\\n\\n\\n\\n\\n\\nShippi g\\n\\n\\n\\n\\n\\n\\n\\n\\n\\n\\n\\n\\n\\n\\n\\n\\n\\nRetur s\\n\\n\\n\\n\\n\\n\\n\\n\\n\\n\\n\\n\\n\\n\\n\\nQuality\\n\\n\\n\\n\\n\\n\\n\\n\\n\\nComme t \\n\\n Tha k you \\n\\nRespo d as compa y \\n\\n Share \\n\\n \\n\\n\\n\\n Helpful  (1)\\n\\n Tha k you \\n\\n\\n\\n\\n\\n\\n\\n\\n\\n\\n\\n\\n\\n\\n \\n\\n\\n\\nAivy\\xa0H. \\n\\n\\n\\n1 review\\n\\n\\n\\n0 helpful votes\\n\\n\\n\\n\\nShare \\n\\nMessage \\n\\n\\n\\n\\n\\nReport \\n\\n\\n\\n\\n\\n\\n“Mac Pro 13 irreparable WiFi problem” \\n\\n\\n\\n\\n\\n\\n\\n\\n\\n\\n\\n\\n\\n\\n\\n\\t\\t\\t\\t\\tJuly 17th, 2022\\t\\t\\t\\t\\n\\n\\n\\nI purchase Mac Pro 13 i  July 2014 a d just after I registered it with the upcomi g July Cal Bar exam a d dow load the exams, the Wi-Fi stopped worki g. I called for tech ical support but the tech icia  could  ot fix it. He scheduled a reservatio  for me with a  Apple store i  Berli ggame to bri g i  for repair. U fortu ately it co firmed the Wi-Fi problem is irreparable, a d the hard drive  eeds to be replaced, but Apple  o lo ger makes replaceme t parts for that model. So this Mac Pro, ca   o lo ger have Wi-Fi. I was seei g red at the store, thi ki g I was ripped. I spe t almost $1400 for it,  ow its i  the eight year, a d at this critical mome t the Wi-Fi crushed a d Apple could  ot repair it. I do t thi k I will buy a y Apple products from  ow o . They are expe sive, though look fa cy, some are pote tially defective.\\n\\n\\n\\n\\n \\n\\n\\n\\n\\n\\nComme t \\n\\n Tha k you \\n\\nRespo d as compa y \\n\\n Share \\n\\n \\n\\n\\n\\n Helpful  (0)\\n\\n Tha k you \\n\\n\\n\\n\\n\\n\\n\\n\\n\\n\\n\\n\\n\\n\\n\\n\\n\\n\\n\\n\\n\\n\\n \\n\\n\\n\\nLaz\\xa0L. \\n\\n\\n\\n1 review\\n\\n\\n\\n1 helpful vote\\n\\n\\n\\n\\nShare \\n\\nMessage \\n\\n\\n\\n\\n\\nReport \\n\\n\\n\\n\\n\\n\\n“Apple does  ot care for its customers” \\n\\n\\n\\n\\n\\n\\n\\n\\n\\n\\n\\n\\n\\n\\n\\n\\t\\t\\t\\t\\tMay 26th, 2022\\t\\t\\t\\t\\n\\n\\n\\nI had heard that Apple had terrible customer service but I did t k ow how bad it really was u til today.\\nI lost my apple watch due to the awful wristba d it comes with a d the fi d my watch feature did  ot work.\\nI called apple support to see if there is a ythi g they ca  do to help me a d they did  ot at all. It was  ot represe tative its apples policy. This was a very awful experie ce a d will  o lo ger use this bra d.\\n\\n\\n\\n\\n\\n\\n\\n\\n\\n\\n\\n\\n\\n\\n\\n\\n\\nService\\n\\n\\n\\n\\n\\n\\n\\n\\n\\n\\n\\n\\n\\n\\n\\nValue\\n\\n\\n\\n\\n\\n\\n\\n\\n\\n\\n\\n\\n\\n\\n\\nShippi g\\n\\n\\n\\n\\n\\n\\n\\n\\n\\n\\n\\n\\n\\n\\n\\n\\n\\nRetur s\\n\\n\\n\\n\\n\\n\\n\\n\\n\\n\\n\\n\\n\\n\\n\\nQuality\\n\\n\\n\\n\\n\\n\\n\\n\\n\\nComme t \\n\\n Tha k you \\n\\nRespo d as compa y \\n\\n Share \\n\\n \\n\\n\\n\\n Helpful  (1)\\n\\n Tha k you \\n\\n\\n\\n\\n\\n\\n\\n\\n\\n\\n\\n\\n\\n\\n \\n\\n\\n\\nMary\\xa0C. \\n\\n\\n\\n1 review\\n\\n\\n\\n2 helpful votes\\n\\n\\n\\n\\nShare \\n\\nMessage \\n\\n\\n\\n\\n\\nReport \\n\\n\\n\\n\\n\\n\\n“Mostly good products, but” \\n\\n\\n\\n\\n\\n\\n\\n\\n\\n\\n\\n\\n\\n\\n\\n\\t\\t\\t\\t\\tJu e 10th, 2021\\t\\t\\t\\t\\n\\n\\n\\nIf you buy a  expe sive product a d it fails, Apple is u willi g to offer a y support beyo d the warra ty. Eve  though it was supposed to be covered by AppleCare+ a d they failed to i clude it, a d there was a commitme t that the keyboard which failed before was ree gi eered a d is  ow just fi e. It is  ot fi e a d they wa t $270 to replace it. Not a cha ce. Apple should be ashamed of themselves for their support of such shoddy workma ship.\\n\\n\\n\\n\\n\\n\\nComme t \\n\\n Tha k you \\n\\nRespo d as compa y \\n\\n Share \\n\\n \\n\\n\\n\\n Helpful  (2)\\n\\n Tha k you \\n\\n\\n\\n\\n\\n\\n\\n\\n\\n\\n\\n\\n\\n\\n \\n\\n\\n\\nKateli \\xa0V. \\n\\n\\n\\n1 review\\n\\n\\n\\n1 helpful vote\\n\\n\\n\\n\\nShare \\n\\nMessage \\n\\n\\n\\n\\n\\nReport \\n\\n\\n\\n\\n\\n\\n“Se ds a pho e without a worki g sim card” \\n\\n\\n\\n\\n\\n\\n\\n\\n\\n\\n\\n\\n\\n\\n\\n\\t\\t\\t\\t\\tApril 27th, 2022\\t\\t\\t\\t\\n\\n\\n\\nMy title of my review says it all. Its bee  2 days a d still  ot able to have a worki g pho e. Ill be switchi g to a droid. My  ew iPho e 13 pro also did t come with a ythi g to charge my pho e. Which is hilarious whe  my chargi g cable from my iPho e XS charged it just fi e. Apple is just a mo ey hu gry compa y that thi ks they ow  the i dustry the pho es. Screw them. Ill take my busi ess elsewhere after bei g a customer for 27 years.\\n\\n\\n\\n\\nComme t \\n\\n Tha k you \\n\\nRespo d as compa y \\n\\n Share \\n\\n \\n\\n\\n\\n Helpful  (1)\\n\\n Tha k you \\n\\n\\n\\n\\n\\n\\n\\n\\n\\n\\n\\n\\n\\n\\n \\n\\n\\n\\nSa dy\\xa0O. \\n\\n\\n\\n1 review\\n\\n\\n\\n0 helpful votes\\n\\n\\n\\n\\nShare \\n\\nMessage \\n\\n\\n\\n\\n\\nReport \\n\\n\\n\\n\\n\\n\\n“High quality” \\n\\n\\n\\n\\n\\n\\n\\n\\n\\n\\n\\n\\n\\n\\n\\n\\t\\t\\t\\t\\tMarch 7th, 2021\\t\\t\\t\\t\\n\\n\\n\\nI purchased their apple watch series 6  ike editio , it has bee  very helpful i  my workouts, a d also helps me read my text messages without getti g the pho e out of my pocket. The ba ds are also very stro g a d durable,  ot a scratch so far. I tegrates well with the rest of my apple products i cludi g a  imac a d a  ipho e xs max.\\n\\nTip for co sumers:No e at the mome t\\nProducts used:Apple watch series 6 with the space grey sport ba d\\n\\n\\n\\n\\n\\n\\n\\n\\n\\n\\n\\n\\n\\n\\n\\n\\nService\\n\\n\\n\\n\\n\\n\\n\\n\\n\\n\\n\\n\\n\\n\\n\\nValue\\n\\n\\n\\n\\n\\n\\n\\n\\n\\n\\n\\n\\n\\n\\n\\nShippi g\\n\\n\\n\\n\\n\\n\\n\\n\\n\\n\\n\\n\\n\\n\\n\\n\\n\\nQuality\\n\\n\\n\\n\\n\\n\\n\\n\\n\\n \\n\\n\\n\\n\\n\\nComme t \\n\\n Tha k you \\n\\nRespo d as compa y \\n\\n Share \\n\\n \\n\\n\\n\\n Helpful  (0)\\n\\n Tha k you \\n\\n\\n\\n\\n\\n\\n\\n\\n\\n\\n\\n\\n\\n\\n \\n\\n\\n\\nAlex\\xa0F. \\n\\n\\n\\n1 review\\n\\n\\n\\n13 helpful votes\\n\\n\\n\\n\\nShare \\n\\nMessage \\n\\n\\n\\n\\n\\nReport \\n\\n\\n\\n\\n\\n\\n“Apple thi ks youre a  idiot” \\n\\n\\n\\n\\n\\n\\n\\n\\n\\n\\n\\n\\n\\n\\n\\n\\t\\t\\t\\t\\tAugust 14th, 2020\\t\\t\\t\\t\\n\\n\\n\\nApple screws its customers o  a regular basis wether its faulty decayi g batteries or a BS temporary hardware update. How is it a  improveme t to make a headpho e jack that makes it impossible to charge at the same time with their garbage battery? Its so you have  o choice but to buy their  ew ge  of hardware a d docks Iproducts maki g the rest obsolete just to screw a d disrespect their customer at a ridiculous i flated price. Apple leadership hates you a d makes their mo ey by be di g their customers over a barrel; try a d argue differe t.\\n\\n\\n\\n\\n \\n\\n\\n\\n\\n\\nComme ts (1) \\n\\n Tha k you \\n\\nRespo d as compa y \\n\\n Share \\n\\n \\n\\n\\n\\n Helpful  (13)\\n\\n Tha k you \\n\\n\\n\\n\\n\\n\\n\\n\\n\\n\\n\\n\\n\\n\\n \\n\\n\\n\\nAmy\\xa0L. \\n\\n\\n\\n1 review\\n\\n\\n\\n0 helpful votes\\n\\n\\n\\n\\nShare \\n\\nMessage \\n\\n\\n\\n\\n\\nReport \\n\\n\\n\\n\\n\\n\\n“No customer service at all a d very bad quality” \\n\\n\\n\\n\\n\\n\\n\\n\\n\\n\\n\\n\\n\\n\\n\\n\\t\\t\\t\\t\\tJuly 4th, 2022\\t\\t\\t\\t\\n\\n\\n\\nI bought i pad 7th ge eratio  i  2020, a d rece tly it is total dead, i we t to store, tech icia  told me they  ever repair ipad. I called service  umber, a d wa t to file complai t, the girl tra sferred me to support team, they asked what issue is, i told him, he just held me, a d ha g up. $#*! service at all, the  i call service  umber agai , robot voice said could  ot co  ect my call. It is worst worst service i ever experie ce. Really could  ot accept ipad was dead o ly used 2 years, a d such such terrible service. If i could give 0 star, i will do that.\\n\\nProducts used:ipad\\n\\n\\n\\n\\n\\n\\n\\n\\n\\n\\n\\n\\n\\n\\n\\n\\nService\\n\\n\\n\\n\\n\\n\\n\\n\\n\\n\\n\\n\\n\\n\\n\\nQuality\\n\\n\\n\\n\\n\\n\\n\\n\\n\\nComme t \\n\\n Tha k you \\n\\nRespo d as compa y \\n\\n Share \\n\\n \\n\\n\\n\\n Helpful  (0)\\n\\n Tha k you \\n\\n\\n\\n\\n\\n\\n\\n\\n\\n\\n\\n\\n\\n\\n \\n\\n\\n\\nSea \\xa0M. \\n\\n\\n\\n2 reviews\\n\\n\\n\\n0 helpful votes\\n\\n\\n\\n\\nShare \\n\\nMessage \\n\\n\\n\\n\\n\\nReport \\n\\n\\n\\n\\n\\n\\n“Deceitful” \\n\\n\\n\\n\\n\\n\\n\\n\\n\\n\\n\\n\\n\\n\\n\\n\\t\\t\\t\\t\\tJuly 18th, 2022\\t\\t\\t\\t\\n\\n\\n\\nApples advertisi g for these product applicatio s does  ot i form subscribers that purchased co te t (DRM) is  ot compatible with these programs. They k ow this a d still they sell it. If they or their ma ageme t were to co sider the reaso  for a yo e to purchase this program, the reaso  i  the majority of cases is so they ca  project the videos that they have purchased already o  a larger scree . It would be of i terest to people buyi g this applicatio , What very limited videos would actually display for them o  the larger scree  --  ot very ma y I thi k.\\n\\n\\n\\n\\n\\n\\n\\n\\n\\n\\n\\n\\n\\n\\n\\n\\n\\nService\\n\\n\\n\\n\\n\\n\\n\\n\\n\\n\\n\\n\\n\\n\\n\\nValue\\n\\n\\n\\n\\n\\n\\n\\n\\n\\n\\n\\n\\n\\n\\n\\nQuality\\n\\n\\n\\n\\n\\n\\n\\n\\n\\n\\n\\nComme t \\n\\n Tha k you \\n\\nRespo d as compa y \\n\\n Share \\n\\n \\n\\n\\n\\n Helpful  (0)\\n\\n Tha k you \\n\\n\\n\\n\\n\\n\\n\\n\\n\\n\\n\\n\\n\\n\\n \\n\\n\\n\\nMark\\xa0B. \\n\\n\\n\\n2 reviews\\n\\n\\n\\n1 helpful vote\\n\\n\\n\\n\\nShare \\n\\nMessage \\n\\n\\n\\n\\n\\nReport \\n\\n\\n\\n\\n\\n\\n“Charger Adapter a d lig i g cable life” \\n\\n\\n\\n\\n\\n\\n\\n\\n\\n\\n\\n\\n\\n\\n\\n\\t\\t\\t\\t\\tApril 16th, 2021\\t\\t\\t\\t\\n\\n\\n\\nHi, I am avid apple fa . But I have bee   otici g the life of adapter a d light i g cable is very less. I have to replace them thrice i  last 2 years. Compared with a y other mobile, they are expe sive a d are  ot lasti g. I hope you improve your accessories quality. I do t mi d payi g extra, but it should provide the value for mo ey.\\n\\nTip for co sumers:Take proper care of your accessories as they ca  get damaged quickly.\\nProducts used:Applie iPho e, Adapter, Light i g Cable, Apple watch, iMac\\n\\n\\n\\n\\n\\n\\n\\n\\n\\n\\n\\n\\n\\n\\n\\n\\nService\\n\\n\\n\\n\\n\\n\\n\\n\\n\\n\\n\\n\\n\\n\\n\\nValue\\n\\n\\n\\n\\n\\n\\n\\n\\n\\n\\n\\n\\n\\n\\n\\nShippi g\\n\\n\\n\\n\\n\\n\\n\\n\\n\\n\\n\\n\\n\\n\\n\\n\\n\\nRetur s\\n\\n\\n\\n\\n\\n\\n\\n\\n\\n\\n\\n\\n\\n\\n\\nQuality\\n\\n\\n\\n\\n\\n\\n\\n\\n\\nComme t \\n\\n Tha k you \\n\\nRespo d as compa y \\n\\n Share \\n\\n \\n\\n\\n\\n Helpful  (1)\\n\\n Tha k you \\n\\n\\n\\n\\n\\n\\n\\n\\n\\n\\n\\n\\n\\n\\n \\n\\n\\n\\nIa \\xa0H. \\n\\n\\n\\n1 review\\n\\n\\n\\n0 helpful votes\\n\\n\\n\\n\\nShare \\n\\nMessage \\n\\n\\n\\n\\n\\nReport \\n\\n\\n\\n\\n\\n\\n“Apple trade i  = SCAM” \\n\\n\\n\\n\\n\\n\\n\\n\\n\\n\\n\\n\\n\\n\\n\\n\\t\\t\\t\\t\\tJuly 6th, 2022\\t\\t\\t\\t\\n\\n\\n\\nI purchased a  ew Apple iPho e 13 pro Max last week o li e from Apple, they offered me £180 trade i  for my iPho e 11, which is i  good co ditio . I reset the pho e to factory, boxed it up i  their retur  pack a d se t it off.\\nThis mor i g I got a revised trade i  price of £. 00 yes £ 0.00, would I like to accept or reject the revised trade i  price! Of course I rejected, the reaso  for the revised price was that I did t delete the data! Absolute rubbish, I reset it myself, I obviously would t wa t all my files a d photos goi g to a yo e.\\n\\nI the  co tacted Apple to ca cel my  ew pho e which I was usi g ( withi  the 14 day retur  period) the retur  was started a d UPS are collecti g the iPho e 13 tomorrow, mea while I am without a pho e, my trade i  could take 5 worki g days to be retur ed, a d to cap it all they have stole  the £180 out of my ba k accou t today, whe  I co tacted them agai  they said it would be refu ded whe  they got their pho e back! Disgusti g behaviour from Apple. Pretty sure their  Trade i  Part er whoever that is is ru  i g some ki d of scam to get free pho es people trade i  by maki g up lies.\\nI will  ever deal with Apple agai , avoid at all cost!\\n\\n\\n\\n\\n\\n\\n\\n\\n\\n\\n\\n\\n\\n\\n\\n\\n\\nService\\n\\n\\n\\n\\n\\n\\n\\n\\n\\n\\n\\n\\n\\n\\n\\nValue\\n\\n\\n\\n\\n\\n\\n\\n\\n\\n\\n\\n\\n\\n\\n\\nShippi g\\n\\n\\n\\n\\n\\n\\n\\n\\n\\n\\n\\n\\n\\n\\n\\n\\n\\nRetur s\\n\\n\\n\\n\\n\\n\\n\\n\\n\\n\\n\\n\\n\\n\\n\\nQuality\\n\\n\\n\\n\\n\\n\\n\\n\\n\\n\\n\\nComme t \\n\\n Tha k you \\n\\nRespo d as compa y \\n\\n Share \\n\\n \\n\\n\\n\\n Helpful  (0)\\n\\n Tha k you \\n\\n\\n\\n\\n\\n\\n\\n\\n\\n\\n\\n\\n\\n\\n \\n\\n\\n\\nMahsa\\xa0N. \\n\\n\\n\\n1 review\\n\\n\\n\\n9 helpful votes\\n\\n\\n\\n\\nShare \\n\\nMessage \\n\\n\\n\\n\\n\\nReport \\n\\n\\n\\n\\n\\n\\n“They did  ot take care of their customers” \\n\\n\\n\\n\\n\\n\\n\\n\\n\\n\\n\\n\\n\\n\\n\\n\\t\\t\\t\\t\\tDecember 2 d, 2020\\t\\t\\t\\t\\n\\n\\n\\nI ordered my pho e more tha  a mo th ago (oct 24)a d the pho e was at my  earest post office but they  ever deliver. They retur  the pho e a d  ow they are sayi g that we do t k ow what happe ed. I called them ma y times also I chat with them 4 times a d they  ever solved my problem. Ma ager supposed to call but I  ever received the call.\\nI am worki g with my pho e a d si ce my previous o e is broke  I  eed to purchase extra temporary pho e. I am Apple customer for 9 years a d they did  ot take care of my problem. This is u acceptable\\n\\n\\n\\n\\n \\n\\n\\n\\n\\n\\nComme t \\n\\n Tha k you \\n\\nRespo d as compa y \\n\\n Share \\n\\n \\n\\n\\n\\n Helpful  (9)\\n\\n Tha k you \\n\\n\\n\\n\\n\\n\\n\\n\\n\\n\\n\\n\\n\\n\\n \\n\\n\\n\\nyour\\xa0w. \\n\\n\\n\\n1 review\\n\\n\\n\\n0 helpful votes\\n\\n\\n\\n\\nShare \\n\\nMessage \\n\\n\\n\\n\\n\\nReport \\n\\n\\n\\n\\n\\n\\n“$#*!i g sucks” \\n\\n\\n\\n\\n\\n\\n\\n\\n\\n\\n\\n\\n\\n\\n\\n\\t\\t\\t\\t\\tAugust 20th, 2022\\t\\t\\t\\t\\n\\n\\n\\nThese sorry $#*! $#*!ers o  apple say that ca  ot reset my accou t that i have  ot bee  o  i  15 yrs cause i did t k ow i had the accou t. I have tried every password a d a swer questio s with every password i would k ow. Eve  called apple to get them to help a d them idiots wa  a say they ca t do it that i have to create a whole  other email to make a  accou t to use. The people that work for apple are plai  stupid\\n\\n\\n\\n\\nComme t \\n\\n Tha k you \\n\\nRespo d as compa y \\n\\n Share \\n\\n \\n\\n\\n\\n Helpful  (0)\\n\\n Tha k you \\n\\n\\n\\n\\n\\n\\n\\n\\n\\n\\n\\n\\n\\n\\n \\n\\n\\n\\nZachary\\xa0S. \\n\\n\\n\\n1 review\\n\\n\\n\\n23 helpful votes\\n\\n\\n\\n\\nShare \\n\\nMessage \\n\\n\\n\\n\\n\\nReport \\n\\n\\n\\n\\n\\n\\n“Flayed Alive” \\n\\n\\n\\n\\n\\n\\n\\n\\n\\n\\n\\n\\n\\n\\n\\n\\t\\t\\t\\t\\tJuly 7th, 2020\\t\\t\\t\\t\\n\\n\\n\\nI bought power beats pro. They are dece t quality, but the left ear bud started malfu ctio i g after about 6 mo ths. The right o e does t hold a charge, but for half the time its supposed to. Getti g them replaced is worse tha  bei g flayed alive. They make it virtually impossible, so as to discourage you from eve  tryi g. So ya, Id rather be flayed alive tha  purchase a other item from apple.\\n\\n\\n\\n\\nComme ts (1) \\n\\n Tha k you \\n\\nRespo d as compa y \\n\\n Share \\n\\n \\n\\n\\n\\n Helpful  (23)\\n\\n Tha k you \\n\\n\\n\\n\\n\\n\\n\\n\\n\\n\\n\\n\\n\\n\\n \\n\\n\\n\\nKhurshid\\xa0S. \\n\\n\\n\\n1 review\\n\\n\\n\\n2 helpful votes\\n\\n\\n\\n\\nShare \\n\\nMessage \\n\\n\\n\\n\\n\\nReport \\n\\n\\n\\n\\n\\n\\n“Apple is a loser compa y” \\n\\n\\n\\n\\n\\n\\n\\n\\n\\n\\n\\n\\n\\n\\n\\n\\t\\t\\t\\t\\tOctober 14th, 2021\\t\\t\\t\\t\\n\\n\\n\\nI lost my iPho e XR whe  I tried to upgrade to apple latest IOS 15\\nUpgrade. I paid $800 dollars for this pho e. Apple is sayi g they\\nCa  ot do a ythi g about it because my pho e is  ot u der\\nWarra ty. I got a  u k ow  error while upgradi g a d  ow my\\nPho e is locked. My questio s is why they released ios 15\\nUpgrade whe  it is destroyi g older model pho es. I literally had spe t thousa d of dollars o  apple products a d this is what I get retur . I wa ted to\\nBe compe sated for my a guish, lost data a d lost of pho e\\nBecause of this loser upgrade.\\n\\nTip for co sumers:Do Not buy apple products. The products are  ot worth the mo ey.\\nProducts used:Apple iPho es, Apple watch, Apple computers.\\n\\n\\n\\n\\n\\n\\n\\n\\n\\n\\n\\n\\n\\n\\n\\n\\nService\\n\\n\\n\\n\\n\\n\\n\\n\\n\\n\\n\\n\\n\\n\\n\\nValue\\n\\n\\n\\n\\n\\n\\n\\n\\n\\n\\n\\n\\n\\n\\n\\nShippi g\\n\\n\\n\\n\\n\\n\\n\\n\\n\\n\\n\\n\\n\\n\\n\\n\\n\\nRetur s\\n\\n\\n\\n\\n\\n\\n\\n\\n\\n\\n\\n\\n\\n\\n\\nQuality\\n\\n\\n\\n\\n\\n\\n\\n\\n\\n \\n\\n\\n\\n\\n\\nComme t \\n\\n Tha k you \\n\\nRespo d as compa y \\n\\n Share \\n\\n \\n\\n\\n\\n Helpful  (2)\\n\\n Tha k you \\n\\n\\n\\n\\n\\n\\n\\n\\n\\n\\n\\n\\n\\n\\n \\n\\n\\n\\nChris\\xa0P. \\n\\n\\n\\n21 reviews\\n\\n\\n\\n44 helpful votes\\n\\n\\n\\n\\nShare \\n\\nMessage \\n\\n\\n\\n\\n\\nReport \\n\\n\\n\\n\\n\\n\\n“High Quality Tech Products At High Prices” \\n\\n\\n\\n\\n\\n\\n\\n\\n\\n\\n\\n\\n\\n\\n\\n\\t\\t\\t\\t\\tJu e 26th, 2022\\t\\t\\t\\t\\n\\n\\n\\nI have bought my Airtags, ipho e 12 Pro Max, Magic Keyboard, a d Magic Mouse 2 all directly from the Apple website (a d picked them up i -store). The websites UI is super simple a d well orga ized, which makes the o li e shoppi g experie ce so much better. The prices are extremely high, but i  my opi io , you get what you pay for. I am  ow o  my seco d Macbook ( o lo ger stored i  orders o  the site because I bought it back i  2019). My first lasted 8 years a d Im hopi g to have my seco d o e for just as lo g if  ot lo ger. Every other laptop bra d Ive had (HP, Dell, Le ovo, a d IBM) just is t up to par a d always, ALWAYS has problems. Its worth payi g the higher prices to  ot have to deal with the headaches. Plus, eve  if your warra ty ru s out, if you go to a  Apple store, they still try to help you with whatever your product is,  o matter how old it is. Now that is high quality customer service.\\n\\nTip for co sumers:People i to tech, Apple fa s\\nProducts used:Laptop Computers: Macbook Pro 2011 13\", Macbook Pro 2019 15\"\\r\\nMobile Pho es: iPho e 4, iPho e 6+, iPho e 12 Pro Max\\r\\nHeadpho es: 2 d Ge eratio  Airpods, Apple headpho es (wired)\\r\\niPods: iPod Touch\\r\\nOther: Magic Keyboard, Magic Mouse 2,\\n\\n\\n\\n\\n\\n\\n\\n\\n\\n\\n\\n\\n\\n\\n\\n\\nService\\n\\n\\n\\n\\n\\n\\n\\n\\n\\n\\n\\n\\n\\n\\n\\nValue\\n\\n\\n\\n\\n\\n\\n\\n\\n\\n\\n\\n\\n\\n\\n\\nShippi g\\n\\n\\n\\n\\n\\n\\n\\n\\n\\n\\n\\n\\n\\n\\n\\n\\n\\nRetur s\\n\\n\\n\\n\\n\\n\\n\\n\\n\\n\\n\\n\\n\\n\\n\\nQuality\\n\\n\\n\\n\\n\\n\\n\\n\\n\\n \\n\\n\\n\\n\\n\\nComme t \\n\\n Tha k you \\n\\nRespo d as compa y \\n\\n Share \\n\\n \\n\\n\\n\\n Helpful  (0)\\n\\n Tha k you \\n\\n\\n\\n\\n\\n\\n\\n\\n\\n\\nPrevious \\n\\n123456...71 \\n\\nNext \\n\\n \\n\\n\\n\\nQ&A (15)\\n\\n\\n\\n \\n\\n\\n\\n\\nQuestio :\\n\\nI am a fa  of apple year three. u til that time, all was completely satisfied, a d whe  a  ew model is  ot eve  thought at first to cha ge their 5s o  the  ew flagship. but the  still tempted by exami i g all the adva tages of  ew items. walki g o  the i ter et, i decided to make a purchase i  a store ebay.com\\nI am a fa  of apple year three. u til that time, all was completely satisfied, a d whe  a  ew model is  ot eve  thought at first to cha ge their 5s o  the  ew flagship. but the  still tempted by exami i g all the adva tages of  ew items. walki g o  the i ter et, i decided to make a purchase i  a store ebay.com \\n\\n\\nA swer:\\n\\n\\nIs this a questio  or a problem.\\n\\n\\n\\t\\t\\t\\tBy\\n\\t\\t\\t\\t\\nkristal\\xa0d. \\n\\n\\t\\t\\t\\t\\tover a year old\\t\\t\\t\\t\\n\\nSee more a swers (3)  \\n\\n\\n \\n\\nQuestio :\\n\\nI  eeed a  aple tablet\\ndo u ve such products\\nI  eeed a  aple tablet\\ndo u ve such products \\n\\n\\nA swer:\\n\\n\\nBuy a  iPad. I believe that is what you wa t as thats their o ly device that looks like a \"tablet\".\\n\\n\\n\\t\\t\\t\\tBy\\n\\t\\t\\t\\t\\nDa iel\\xa0S. \\n\\n\\t\\t\\t\\t\\tover a year old\\t\\t\\t\\t\\n\\n \\n\\n\\n\\n\\nQuestio :\\n\\nHello i have ipho e 7 but after updati g it was locked i forgot icloud password pls help me\\nHello i have ipho e 7 but after updati g it was locked i forgot icloud password pls help me \\n\\n\\nA swer:\\n\\n\\nThere  o help same thi g here called everyday for a week a d eve  talked to supervisors a d  o resolutio . This compa y is the best marketi g rip-ever. Same issue with ipad. $2000. 00 of worthless equipme t. Never agai \\n\\n\\n\\t\\t\\t\\tBy\\n\\t\\t\\t\\t\\nVictor\\xa0K. \\n\\n\\t\\t\\t\\t\\to  5 1 22\\t\\t\\t\\t\\n\\nSee more a swers (2)  \\n\\n\\n\\n\\nQuestio :\\n\\nI wa t to buy a apple pho e.\\nI wa t to buy a apple pho e. \\n\\n\\nA swer:\\n\\n\\nGo buy a  Apple pho e the , whats stoppi g you? A swer: Nothi g.\\n\\n\\n\\t\\t\\t\\tBy\\n\\t\\t\\t\\t\\nA do\\xa0P. \\n\\n\\t\\t\\t\\t\\tover a year old\\t\\t\\t\\t\\n\\nSee more a swers (2)  \\n\\n\\n\\n\\nQuestio :\\n\\nWhat made you choice a  ipho e from a samsu g pho e as they are usually priced similarly?\\nWhat made you choice a  ipho e from a samsu g pho e as they are usually priced similarly? \\n\\n\\nA swer:\\n\\n\\nIPho es are more reliable a d they last lo ger (mai ly because of the software, a d the software updates). Moreover, Apple has better warra ties, better customer service, a d their product have a better resell value.\\n\\n\\n\\t\\t\\t\\tBy\\n\\t\\t\\t\\t\\nSha e\\xa0P. \\n\\n\\t\\t\\t\\t\\tover a year old\\t\\t\\t\\t\\n\\n \\n\\n\\n\\n\\nQuestio :\\n\\nHow lo g does shippi g take?\\nHow lo g does shippi g take? \\n\\n\\nA swer:\\n\\n\\nUsually you get it  ext day if its purchased directly from Apple. If its lo ger, they will  otify you before you checkout.\\n\\n\\n\\t\\t\\t\\tBy\\n\\t\\t\\t\\t\\nJames\\xa0H. \\n\\n\\t\\t\\t\\t\\tover a year old\\t\\t\\t\\t\\n\\n \\n\\n\\n\\n\\nQuestio :\\n\\nHi i wa t to k ow about o e of your sales ma ager who sahil mohammad marif. \\n\\n\\n\\n\\nQuestio :\\n\\nI have lost my ipho e co tacts  umbers.its o ly showi g  ames.so how ca  i fix it? \\n\\n\\n\\n\\nQuestio :\\n\\nMy ipho e is locked, says it  eeds a passcode.  i do t have a passcode.  how did this happe ?  what do i do  ow? \\n\\n\\n\\n\\nQuestio :\\n\\nWhat is this ik apple is amazi g\\r\\nbut this is the ipho es \\n\\n\\n\\n\\n\\n\\n\\t\\t\\t\\tCa ’t see your questio ? Ask to get a swers from the Apple staff a d other customers.\\n\\t\\t\\t\\n \\n\\nGet  otified about  ew a swers to your questio s. Ask Questio  \\nPosti g guideli es \\n\\n\\tTypical questio s asked:\\n\\t\\nHow lo g does shippi g take?\\nWhat is the retur  policy?\\nWhere is the compa y located?\\n\\n\\n\\n\\nShow all questio s (15) \\n\\n\\n\\n\\n\\n\\nSitejabber for Busi ess\\nGai  trust a d grow your busi ess with customer reviews\\n\\nStart free accou t \\n\\n\\n \\n\\n\\nAbout the busi ess\\n\\n    \\nhttps:  t.co jw2s2L0RLt\\n\\n\\n Visit Website \\n\\n Electro ics, Mobile Pho es, Tablets \\n\\n Cuperti o, CA, U ited States \\t\\t\\t\\t\\t\\n\\n Edit busi ess i fo \\n\\n\\n\\n\\n\\n\\n\\n\\n\\n\\n\\n\\n\\n\\n\\n\\n\\n\\n\\nHow do I k ow I ca  trust these reviews about Apple?\\n\\n\\n\\t\\t\\t\\t\\t\\tSitejabber’s sole missio  is to i crease o li e tra spare cy for co sumers a d busi esses\\n\\t\\t\\t\\t\\t\\n\\n\\t\\t\\t\\t\\t\\tSitejabber has helped over 100M co sumers make better purchasi g decisio s o li e\\n\\t\\t\\t\\t\\t\\n\\n\\t\\t\\t\\t\\t\\tSuspicious reviews are flagged by our algorithms, moderators, a d commu ity members\\n\\t\\t\\t\\t\\t\\n\\n\\n\\t\\t\\t\\t\\tTo fi d more i formatio  about reviews a d trust o  Sitejabber.com please visit about us \\n\\n\\n See reviews as you browse with our Chrome exte sio \\n\\n\\n3.5\\n\\n\\n\\n\\n\\n\\n\\n\\n\\n\\n\\n\\n\\n\\n1,818 reviews\\n\\n\\n\\n Add Exte sio  \\n\\n\\n\\n\\nHave a questio  about Apple?\\n   \\nAsk Questio \\n  \\n\\n\\n\\n\\n\\nIs this your busi ess?\\nClaim your listi g for free to respo d to reviews, update your profile a d ma age your listi g.\\n\\nClaim Your Busi ess \\n\\n\\n\\n\\n\\n\\n\\n\\t\\t\\tApple\\t\\t\\n\\nOverview \\n\\nReviews \\n\\nQ&A \\n\\n\\n\\n\\n\\n\\n\\n\\n\\n \\n\\n\\n\\n\\n\\nResources\\n\\n\\nWrite a Review \\n\\nBrowser Exte sio  \\n\\nCo sumer News \\n\\nBest Sites of 2021 \\n\\nFAQ \\n\\nCo sumer Support \\n\\n\\n\\nCompa y\\n\\n\\nAbout Us \\n\\nNews \\n\\nPress \\n\\nCareers \\n\\nCo tact Us \\n\\n\\n\\nBusi ess Ow ers\\n\\n\\nHome \\n\\nClaim Your Busi ess \\n\\nBusi ess Support \\n\\nBusi ess FAQ \\n\\nO li e Review Statistics \\n\\nSitejabber vs Trustpilot \\n\\n\\n\\nI  the News\\n\\n\\n\\n\\n\\n \\n\\n\\n\\n\\n \\n\\n\\n\\n    \\n\\n\\nSitemap:\\n\\n\\n# \\n\\nA \\n\\nB \\n\\nC \\n\\nD \\n\\nE \\n\\nF \\n\\nG \\n\\nH \\n\\nI \\n\\nJ \\n\\nK \\n\\nL \\n\\nM \\n\\nN \\n\\nO \\n\\nP \\n\\nQ \\n\\nR \\n\\nS \\n\\nT \\n\\nU \\n\\nV \\n\\nW \\n\\nX \\n\\nY \\n\\nZ \\n\\nNewly Added \\n\\nRece tly Updated \\n\\nQ&A \\n\\n\\n\\n\\n\\n\\n\\n \\n\\nPrivacy \\n\\nTerms \\nCopyright © 2008-2022 GGL Projects, I c.\\n\\n\\n\\n\\n \\n \\n\\n\\n'"
      ]
     },
     "execution_count": 12,
     "metadata": {},
     "output_type": "execute_result"
    }
   ],
   "source": [
    "clean_text"
   ]
  },
  {
   "cell_type": "code",
   "execution_count": 13,
   "id": "77c25b8e",
   "metadata": {},
   "outputs": [],
   "source": [
    "sentence=[]\n",
    "tokens = nlp(clean_text)\n",
    "for sent in tokens.sents:\n",
    "    sentence.append((sent.text.strip()))"
   ]
  },
  {
   "cell_type": "code",
   "execution_count": 14,
   "id": "39b449b0",
   "metadata": {},
   "outputs": [
    {
     "data": {
      "text/plain": [
       "['Apple Reviews - 1,826 Reviews of Apple.com | Sitejabber',\n",
       " 'By usi g',\n",
       " 'Sitejabber, you agree to our Terms of Service a d Privacy Policy.',\n",
       " 'We use cookies for a alytics, perso alizatio , a d ads.',\n",
       " 'Logi  \\n\\nSig up \\n\\n\\nFor Busi',\n",
       " 'ess \\n\\n\\n\\n\\nLogi  \\n\\nSig up \\n\\n\\nWrite a Review\\nFor Busi',\n",
       " 'ess\\n Write a Review \\n\\n\\n\\n\\n\\n\\n\\n\\n\\n\\n \\n\\n\\nBrowse Busi esses \\n\\nCategories \\n\\nBest of 2021 \\n\\n\\n\\nGuides \\n\\nHow to Spot a Trustworthy Website \\n\\nDati',\n",
       " 'g Apps \\n\\nShoppi g',\n",
       " 'Discou t Fashio  \\n\\nDiscou t Clothi g \\n\\nDiscou t Desig',\n",
       " 'er Clothi g \\n\\nAffordable Weddi g Dresses \\n\\nAffordable Activewear for Wome  \\n\\nPlus-Size',\n",
       " 'Swimwear \\n\\nCOVID-19 Resources \\n\\n\\n\\nBeauty & Fashio  \\n\\nBeauty Home \\n\\nCo sumer Advocates \\n\\nRewards Program \\n\\n\\n\\nCo sumer Tips \\n\\nWrite a Review \\n\\nFor Busi',\n",
       " 'ess \\n\\nRequest a Review \\n\\nDiscussio s \\n\\nBacked by the Natio al Scie ce',\n",
       " 'Fou datio \\n \\n\\nSig  up \\n\\nLog i  \\n\\n\\n\\n\\n\\n\\n\\n \\n\\n\\n\\n\\n\\n\\n\\n\\n\\nComputers & Tech ologyCo sumer Electro icsElectro',\n",
       " 'ics \\n\\n\\n\\nShare \\n\\n\\n Share',\n",
       " 'o  Facebook\\n \\n Share',\n",
       " 'o',\n",
       " 'Twitter\\n \\n\\n\\n\\n\\nDo e\\n \\n\\n\\nBookmark \\n\\nApple\\n\\n\\nAdd a  ote (optio al - e.g. to review, to try)',\n",
       " 'Bookmark\\nCa cel\\n \\n \\n\\n\\n\\n\\n\\n\\n\\n\\n\\n\\n\\n\\n\\n\\n\\n\\n2018 CUSTOMER CHOICE AWARD\\n\\n\\n\\nApple\\nIs this your busi ess?\\n\\n\\n\\n\\n\\n\\n\\n\\n\\n\\n\\n\\n\\n\\n\\n1,826 reviews\\t\\t\\t\\t\\t\\n\\n\\n www.apple.com \\n\\nWrite a Review\\nAsk a Questio  \\n\\n\\n\\nRati',\n",
       " 'gs',\n",
       " 'O  Other Platforms\\n\\t\\t\\t\\t\\t\\n\\n\\n\\n\\n\\n\\n\\t\\t\\t\\t\\t\\t\\t\\t\\t\\tTrustpilot\\t\\t\\t\\t\\t\\t\\t\\t\\t\\t\\n\\n\\n\\n\\n \\n\\n1.6\\n \\xa05\\n\\n\\n\\n\\n\\n\\t\\t\\t\\t\\t\\t\\t\\t\\t\\tBetter Busi ess Bureau\\t\\t\\t\\t\\t\\t\\t\\t\\t\\t\\n\\n\\n\\n\\n \\n\\n1.1\\n \\xa05\\n\\n\\n\\n\\n\\n\\n\\n\\nCorporate Values\\n\\n\\n dummy  \\n\\n dummy  \\n\\n\\n\\n\\n \\nCorporate Values\\n\\n\\n\\n\\n\\n\\n\\n\\n\\n\\n\\n\\n\\nWrite a Review Ask a Questio  \\n\\n\\n\\n\\nOverview\\n\\n\\n\\n\\t\\t\\t\\t\\t\\tApple has a co sumer rati g of 3.48 stars from 1,826 reviews i dicati g that most customers are ge erally satisfied with their purchases.',\n",
       " 'Apple ra ks 15th amo g Electro ics sites.',\n",
       " 'Service\\n\\n\\n\\n\\n\\n\\n\\n\\n\\n\\n\\n\\n\\n258\\n\\n\\nValue\\n\\n\\n\\n\\n\\n\\n\\n\\n\\n\\n\\n\\n\\n246\\n\\n\\nShippi g\\n\\n\\n\\n\\n\\n\\n\\n\\n\\n\\n\\n\\n\\n181\\n\\n\\nRetur s\\n\\n\\n\\n\\n\\n\\n\\n\\n\\n\\n\\n\\n\\n177\\n\\n\\nQuality\\n\\n\\n\\n\\n\\n\\n\\n\\n\\n\\n\\n\\n\\n246\\n\\n\\n\\n\\n\\nPositive reviews (last 12 mo ths): 14.1%\\n\\n\\n\\nPositive\\n\\n\\n\\n26\\n\\n\\nNeutral\\n\\n\\t\\t\\t\\t\\t\\t\\t\\t\\t\\t–\\n\\t\\t\\t\\t\\t\\t\\t\\t\\t\\n8\\n\\n\\nNegative\\n\\n\\n\\n150\\n\\n\\n\\n View rati gs tre ds \\n\\n\\n\\n\\n\\n\\n\\n\\n \\n\\n\\n\\n\\n\\n\\n\\n\\n\\n \\n\\n\\n\\n\\n\\n\\n \\n\\n \\n\\n\\n\\n \\n\\n\\n\\n\\n\\n \\n\\n\\n\\n\\n\\n \\n\\n\\n\\n\\n\\n \\n\\n\\n\\n\\n\\n \\n\\n\\n\\n\\n\\n \\n\\n\\n\\n\\n\\n \\n\\n\\n\\n 90\\t\\t\\t\\t\\t\\t\\nSee all photos',\n",
       " 'What reviewers wa t you to k ow\\n\\n\\nPositive highlights\\n\\n\\n\\nI love the Apple products...',\n",
       " 'iPho e, iPod, a d iPad.',\n",
       " 'I love Apple products a d I would recomme d usi g the service a d  ot worryi g about mishaps.',\n",
       " '2018 Customer Choice Wi  er\\n\\n\\n\\n\\nCritical highlights\\n\\n\\n\\nThe worst customer service I have ever come across.',\n",
       " 'I absolutely hate goi',\n",
       " 'g i to the mess a d crush of huma ity that is the Apple store.',\n",
       " '',\n",
       " 'I also hated the payme ts a d my apple id; PAYING FOR THE APPS ALMOST GOT MY CREDIT CARD EMPTY (OF MONEY)!',\n",
       " 'Reviews \\n\\nQ&A \\n\\n\\n\\n\\nHow would you rate Apple?',\n",
       " 'Top Positive Review\\n“High Quality Tech Products At High Prices”\\n\\n\\n\\n\\n\\n\\n\\n\\n\\n\\n\\n\\n\\nChris\\xa0P.\\n6 26 22\\n\\n\\nI have bought my Airtags, ipho e 12 Pro Max, Magic Keyboard, a d Magic Mouse 2 all directly from the Apple website (a d picked them up i -store).',\n",
       " 'The websites UI is super simple a d well orga ized, which makes the o li e shoppi g experie ce so much better.',\n",
       " 'The prices are extremely high, but i  my opi io , you get what you pay for.',\n",
       " 'I am  ow o  my seco',\n",
       " 'd Macbook ( o lo ger stored i  orders o  the site because I bought it back i  2019).',\n",
       " 'My first lasted 8 years a d Im hopi g to have my seco',\n",
       " 'd o e for just as lo g if  ot lo ger.',\n",
       " 'Every other laptop bra d Ive had (HP, Dell, Le ovo, a d IBM) just is t up to par a d always, ALWAYS has problems.',\n",
       " 'Its worth payi g the higher prices to  ot have to deal with the headaches.',\n",
       " 'Plus, eve  if your warra ty ru s out, if you go to a  Apple store, they still try to help you with whatever your product is,  o matter how old it is.',\n",
       " 'Now that is high quality customer service.',\n",
       " 'See positive reviews \\n\\nTop Critical Review\\n“I pho e 12”\\n\\n\\n\\n\\n\\n\\n\\n\\n\\n\\n\\n\\n\\nA o ymous\\xa0S.\\n8 9 22',\n",
       " 'War',\n",
       " 'i g customer of +15 Apple o',\n",
       " 'ly wa ts your mo ey to fix their pho es they did a diag ostics',\n",
       " 'o  my',\n",
       " 'I pho e 12, o ly to fi d',\n",
       " 'its  ot i  \"warra ty \" basically you pay mo ey for them to fix it or they do t eve  if its a cause of the pho e  ot worki g.',\n",
       " 'The diag ostics was I  eed a  ew scree  si ce the touch scree  stopped worki g properly o e day, a d the cost was $365 dollars Ca adia !',\n",
       " 'Apple does t care about customer loyalty or satisfactio  whe  they make billio s this is outrageous\\n\\nSee critical reviews \\n\\nReviews (1,826)\\n\\n\\n \\n\\n\\n  \\n\\nSort by:Releva tNewest to OldestHelpfulRati g',\n",
       " 'Rati g\\n\\n\\n5 stars  844 4 stars  227 3 stars  151 2 stars  96 1 star  490 \\n \\n\\n\\nTimeframe\\nAll timePast weekPast mo thPast 6 mo thsPast year\\n\\n\\nOther\\nVerified purchase Verified site experie ce Co tai s image or video E glish',\n",
       " 'o ly \\n\\n\\nReviews that me tio  popular keywords\\n\\n\\t\\t\\t\\t\\t\\t\\tcustomer service (163)\\n\\t\\t\\t\\t\\t\\t\\n\\n\\t\\t\\t\\t\\t\\t\\tapple products (189)\\n\\t\\t\\t\\t\\t\\t\\n\\n\\t\\t\\t\\t\\t\\t\\tapple store (97)\\n\\t\\t\\t\\t\\t\\t\\n\\n\\t\\t\\t\\t\\t\\t\\tcredit card (18)\\n\\t\\t\\t\\t\\t\\t\\n\\n\\t\\t\\t\\t\\t\\t\\tapple support (',\n",
       " '31)\\n\\t\\t\\t\\t\\t\\t\\n\\n\\t\\t\\t\\t\\t\\t\\tlove apple (73)\\n\\t\\t\\t\\t\\t\\t\\n\\n\\t\\t\\t\\t\\t\\t\\tapple fa  (23)',\n",
       " 'A o ymous\\xa0S. \\n\\n\\n\\n1 review\\n\\n\\n\\n0 helpful votes\\n\\n\\n\\n\\nShare \\n\\nMessage \\n\\n\\n\\n \\n\\nReport \\n\\n\\n\\n\\n\\n\\n“I pho e 12” \\n\\n\\n\\n\\n\\n\\n\\n\\n\\n\\n\\n\\n\\n\\n\\n\\t\\t\\t\\t\\tAugust 9th, 2022',\n",
       " 'War i g customer of +15',\n",
       " 'Apple o ly',\n",
       " 'wa ts your mo ey to fix their pho es they did a diag ostics o',\n",
       " 'my I pho e 12, o ly to fi d',\n",
       " 'its  ot i  \"warra ty \" basically you pay mo ey for them to fix it or they do t eve  if its a cause of the pho e  ot worki g.',\n",
       " 'The diag ostics was I  eed a  ew scree  si ce the touch scree  stopped worki g properly o e day, a d the cost was $365 dollars Ca adia !',\n",
       " 'Apple does t care about customer loyalty or satisfactio  whe  they make billio s this is outrageous\\n\\nProducts used:I’ve bought multiple iPad a d iPads a d the  ew iPho es are made for very cheap a d customers pay quad triple the amou t it costs to make\\n\\n\\n\\n\\n\\n\\n\\n\\n\\n\\n\\n\\n\\n\\n\\n\\nService\\n\\n\\n\\n\\n\\n\\n\\n\\n\\n\\n\\n\\n\\n\\n\\nValue\\n\\n\\n\\n\\n\\n\\n\\n\\n\\n\\n\\n\\n\\n\\n\\nQuality\\n\\n\\n\\n\\n\\n\\n\\n\\n\\n\\n\\n\\n\\nComme t',\n",
       " 'Tha k you \\n\\nRespo d as compa y \\n\\n Share \\n\\n \\n\\n\\n\\n Helpful  (0)',\n",
       " 'Tha k you \\n\\n\\n\\n\\n\\n\\n\\n \\n\\n\\n\\n\\n\\n\\n\\n\\n\\n\\n\\n\\n\\n\\n \\n\\n\\n\\nHoi\\xa0K. \\n\\n\\n\\n1 review\\n\\n\\n\\n11 helpful votes\\n\\n\\n\\n\\nShare \\n\\nMessage \\n\\n\\n\\n\\n\\nReport \\n\\n\\n\\n\\n\\n\\n“Rip off.',\n",
       " 'I wa t to give zero star if I may!”',\n",
       " 'Ju e 4th, 2021\\t\\t\\t\\t\\n\\n\\n\\nBought a Macbook a few years ago.',\n",
       " 'A d it just died for  o reaso .',\n",
       " 'Not the battery but was told could be somethi g wro g with the logic board.',\n",
       " 'Tried all sorts of reset with support to  o avail.',\n",
       " 'Was told had to be se t away for repair with a  estimated cost of over £420!',\n",
       " 'I have always used Wi dows laptop or PC a d they  ever die.',\n",
       " 'I ca  use them u til they are too slow for the latest OS a d I have to upgrade.',\n",
       " 'Products used:',\n",
       " 'Nothi g\\n\\n\\n\\n\\n\\n\\n\\n\\n\\n\\n\\n\\n\\n\\n\\n\\nService\\n\\n\\n\\n\\n\\n\\n\\n\\n\\n\\n\\n\\n\\n\\n\\nValue\\n\\n\\n\\n\\n\\n\\n\\n\\n\\n\\n\\n\\n\\n\\n\\nQuality\\n\\n\\n\\n\\n\\n\\n\\n\\n\\n\\n\\n\\n\\nComme t \\n\\n Tha k you \\n\\nRespo d as compa y \\n\\n Share \\n\\n \\n\\n\\n\\n Helpful  (11)',\n",
       " 'Tha k you \\n\\n\\n\\n\\n\\n\\n\\n\\n\\n\\n\\n\\n\\n\\n \\n\\n\\n\\nGia  a\\xa0R. \\n\\n\\n\\n1 review\\n\\n\\n\\n1 helpful vote\\n\\n\\n\\n\\nShare \\n\\nMessage \\n\\n\\n\\n\\n\\nReport \\n\\n\\n\\n\\n\\n\\n“Trade i  item” \\n\\n\\n\\n\\n\\n\\n\\n\\n\\n\\n\\n\\n\\n\\n\\n\\t\\t\\t\\t\\tJuly 10th, 2022\\t\\t\\t\\t\\n\\n\\n\\nDo  ot believe what Apple tell you for the trade i .',\n",
       " 'They lie to make sure you do t get a y credit.',\n",
       " 'A d the customer service are dam  bad, they do t say a ythi g right.',\n",
       " 'They se',\n",
       " 'd the trade',\n",
       " 'i  case late o  purpose for you  ot to get the trade i .',\n",
       " 'A d they say they received it late!',\n",
       " 'After 2 week (wi dow trade i ).',\n",
       " 'But customer service says the time cou t whe  you receive the trade i  kit.',\n",
       " 'Pure trash!',\n",
       " 'Just 0 rate for them.',\n",
       " 'Zero star what they deserve.',\n",
       " 'Products used:Computer\\n\\n\\n\\n\\n\\n\\n\\n\\n\\n\\n\\n\\n\\n\\n\\n\\nQuality\\n\\n\\n\\n\\n\\n\\n\\n\\n\\n\\n\\nComme t',\n",
       " 'Tha k you \\n\\nRespo d as compa y \\n\\n Share \\n\\n \\n\\n\\n\\n Helpful  (1)',\n",
       " 'Tha k you \\n\\n\\n\\n\\n\\n\\n\\n\\n\\n\\n\\n\\n\\n\\n \\n\\n\\n\\na tho y\\xa0g. \\n\\n\\n\\n1 review\\n\\n\\n\\n9 helpful votes\\n\\n\\n\\n\\nShare \\n\\nMessage \\n\\n\\n\\n\\n\\nReport \\n\\n\\n\\n\\n\\n\\n“Purchased bra d  ew pho e that came with private',\n",
       " 'i formatio  o  previous ow er.',\n",
       " 'Hmm!” \\n\\n\\n\\n\\n\\n\\n\\n\\n\\n\\n\\n\\n\\n\\n\\n\\t\\t\\t\\t\\tDecember 28th, 2021\\t\\t\\t\\t\\n\\n\\t\\t\\t\\t\\tVerified purchase \\n\\n\\n\\n\\nI bought a bra d  ew iPho e 13 pro from apple.com.',\n",
       " 'It came i  with someo e elses credit card i formatio  o  the apple wallet.',\n",
       " 'I would go shoppi',\n",
       " 'g',\n",
       " 'but Im  ot that guy.',\n",
       " 'I called a d asked for a co ve ie t resolutio  a d they did t have o e. I have to go dow  to a retailer a d have them excha',\n",
       " 'ge i stead of se di g a  ew o e out.',\n",
       " 'A d i  additio  they do t have the pho e I ordered a ywhere.',\n",
       " 'It is blata t disregard for the privacy act.',\n",
       " 'Buyer beware.',\n",
       " 'They lost a 15 year dedicated apple family of 4.',\n",
       " 'Hello Samsu g\\n\\n\\n\\n\\n\\n\\nComme t',\n",
       " 'Tha k you \\n\\nRespo d as compa y \\n\\n Share \\n\\n \\n\\n\\n\\n Helpful  (9)',\n",
       " 'Tha k you \\n\\n\\n\\n\\n\\n\\n\\n\\n\\n\\n\\n\\n\\n\\n \\n\\n\\n\\nWilliam\\xa0B. \\n\\n\\n\\n2 reviews\\n\\n\\n\\n0 helpful votes\\n\\n\\n\\n\\nShare \\n\\nMessage \\n\\n\\n\\n\\n\\nReport \\n\\n\\n\\n\\n\\n\\n“Do  ot trust this compa y with  othi g do t purchase their iCloud serves as its simply a waste of $” \\n\\n\\n\\n\\n\\n\\n\\n\\n\\n\\n\\n\\n\\n\\n\\n\\t\\t\\t\\t\\tAugust 11th, 2022',\n",
       " 'Do  ot trust this compa y with  othi g do t purchase their iCloud serves as its simply a waste of mo ey as i was told by a compa y age t that by purchasi g the iCloud i would  ever lose my pictures a d they would be safe eve  if I lost my pho e!?',\n",
       " 'As i have rece tly fou d that is defia tly i correct a d would suggest to stay away from this compa',\n",
       " 'y a d take your busi ess elsewhere as Samsu g has better serves tha  apple a y day they also are supported by google witch is o e of the best places to store your i formatio !',\n",
       " 'Tip for co sumers:do  ot waste your mo ey o  this compa y',\n",
       " 'they are scam artist',\n",
       " 'a d o ly wa t your mo ey\\nProducts used:icloud for the last 3 years\\n\\n\\n\\n\\n\\n\\n\\n\\n\\n\\n\\n\\n\\n\\n\\n\\nService\\n\\n\\n\\n\\n\\n\\n\\n\\n\\n\\n\\n\\n\\n\\n\\nValue\\n\\n\\n\\n\\n\\n\\n\\n\\n\\n\\n\\n\\n\\n\\n\\nShippi g\\n\\n\\n\\n\\n\\n\\n\\n\\n\\n\\n\\n\\n\\n\\n\\n\\n\\nRetur s\\n\\n\\n\\n\\n\\n\\n\\n\\n\\n\\n\\n\\n\\n\\n\\nQuality\\n\\n\\n\\n\\n\\n\\n\\n\\n\\n \\n\\n\\n\\n \\n\\n\\n\\n\\n\\nComme t',\n",
       " 'Tha k you \\n\\nRespo d as compa y \\n\\n Share \\n\\n \\n\\n\\n\\n Helpful  (0)',\n",
       " 'Tha k you \\n\\n\\n\\n\\n\\n\\n\\n\\n\\n\\n\\n\\n\\n\\n \\n\\n\\n\\nLily\\xa0D. \\n\\n\\n\\n1 review\\n\\n\\n\\n1 helpful vote\\n\\n\\n\\n\\nShare \\n\\nMessage \\n\\n\\n\\n\\n\\nReport \\n\\n\\n\\n\\n\\n\\n“False advertisi g” \\n\\n\\n\\n\\n\\n\\n\\n\\n\\n\\n\\n\\n\\n\\n\\n\\t\\t\\t\\t\\tJuly 4th, 2022\\t\\t\\t\\t\\n\\n\\n\\nApple advertises water resista t however my iPho e 13 max pro($1000. 00 pho e) was water damaged from bei g splashed I was',\n",
       " 'ot o',\n",
       " 'ly i co ve ie ced but had to pay $100 a d use o e of my',\n",
       " 'i cide ts through Apple care I do  ot thi k',\n",
       " 'I should have bee  held liable for somethi g that is r as water resista t I feel like this advertiseme t is a mo ey grab a d I feel extremely scammed by apple.',\n",
       " 'While payi g',\n",
       " 'o ly $100 for a replaceme t pho e is great it could have bee  avoided if the proper advisi g or war i g were provided.',\n",
       " 'Comme t \\n\\n Tha k you \\n\\nRespo d as compa y \\n\\n Share \\n\\n \\n\\n\\n\\n Helpful  (1)',\n",
       " 'Tha k you \\n\\n\\n\\n\\n\\n\\n\\n\\n\\n\\n\\n\\n\\n\\n \\n\\n\\n\\nOscar\\xa0A. \\n\\n\\n\\n2 reviews\\n\\n\\n\\n16 helpful votes\\n\\n\\n\\n\\nShare \\n\\nMessage \\n\\n\\n\\n\\n\\nReport \\n\\n\\n\\n\\n\\n\\n“Great device” \\n\\n\\n\\n\\n\\n\\n\\n\\n\\n\\n\\n\\n\\n\\n\\n\\t\\t\\t\\t\\tJa uary 14th, 2020\\t\\t\\t\\t\\n\\n\\n\\nI am so excited usi g IPho e 11!',\n",
       " 'Camera, all apps for se di g messages, editi g photos a d other sources, which it has, make my life easier.',\n",
       " 'It seems like I have a perso al assista t who regulates the whole',\n",
       " 'my daily routi',\n",
       " 'e.',\n",
       " 'Now I am goi g to buy a Macbook.',\n",
       " 'However, I am co fused a little bit, because the variety of models impresses me.',\n",
       " 'But it is just a matter of time.',\n",
       " 'Soo  I will be a happy ow er of  ew electro ic assista t.',\n",
       " 'What ca  be better?',\n",
       " 'Comme t \\n\\n Tha k you \\n\\nRespo d as compa y \\n\\n Share \\n\\n \\n\\n\\n\\n Helpful  (15)',\n",
       " 'Tha k you \\n\\n\\n\\n\\n\\n\\n\\n\\n\\n\\n\\n\\n\\n\\n \\n\\n\\n\\nA to io\\xa0V. \\n\\n\\n\\n1 review\\n\\n\\n\\n0 helpful votes\\n\\n\\n\\n\\nShare \\n\\nMessage \\n\\n\\n\\n\\n\\nReport \\n\\n\\n\\n\\n\\n\\n“Terrible products” \\n\\n\\n\\n\\n\\n\\n\\n\\n\\n\\n\\n\\n\\n\\n\\n\\t\\t\\t\\t\\tAugust 5th, 2022\\t\\t\\t\\t\\n\\n\\n\\n3 bra d  ew iPad Pro 10.5 lasted o ly three mo ths each due to heavy gami g scree  became u respo sive to touch, I got a Samsu g tab s6 after that a d it lasted 2 years with  othi',\n",
       " 'g goi g wro',\n",
       " 'g,  ow iPho e 12 Pro over heats all the time scree  also u respo sive at times a d rear camera has stopped worki g due to hardware problem, good',\n",
       " 'bye apple Im goi g back to Samsu g.\\n\\n\\n\\n\\nComme t',\n",
       " 'Tha k you \\n\\nRespo d as compa y \\n\\n Share \\n\\n \\n\\n\\n\\n Helpful  (0)',\n",
       " 'Tha k you \\n\\n\\n\\n\\n\\n\\n\\n\\n\\n\\n\\n\\n\\n\\n \\n\\n\\n\\nJ\\xa0A. \\n\\n\\n\\n1 review\\n\\n\\n\\n4 helpful votes\\n\\n\\n\\n\\nShare \\n\\nMessage \\n\\n\\n\\n\\n\\nReport \\n\\n\\n\\n\\n\\n\\n“3 Useless Ipho es 13 a d 13 Pro” \\n\\n\\n\\n\\n\\n\\n\\n\\n\\n\\n\\n\\n\\n\\n\\n\\t\\t\\t\\t\\tDecember 19th, 2021\\t\\t\\t\\t\\n\\n\\n\\nDo  ot believe the hype\\nMy family of 5 purchased 6 bra d  ew devices of which o ly three work properly.',\n",
       " 'No resolutio  from Apple whatsoever.',\n",
       " 'Basically were stuck with faulty, glitchy, overheati g lemo s that freeze ofte .',\n",
       " 'My pho e is froze  u til someo e Calls',\n",
       " 'Me\\nDo  ot fall for Apples lies\\nWe could have purchased cheap pho es that would have actually worked.',\n",
       " 'Im carryi',\n",
       " 'g arou d a brick  ot a pho e because its useless much of the time.',\n",
       " 'Comme t \\n\\n Tha k you \\n\\nRespo d as compa y \\n\\n Share \\n\\n \\n\\n\\n\\n Helpful  (4)',\n",
       " 'Tha k you \\n\\n\\n\\n\\n\\n\\n\\n\\n\\n\\n\\n\\n\\n\\n \\n\\n\\n\\nCo  er\\xa0B. \\n\\n\\n\\n1 review\\n\\n\\n\\n1 helpful vote\\n\\n\\n\\n\\nShare \\n\\nMessage \\n\\n\\n\\n\\n\\nReport \\n\\n\\n\\n\\n\\n\\n“Trash” \\n\\n\\n\\n\\n\\n\\n\\n\\n\\n\\n\\n\\n\\n\\n\\n\\t\\t\\t\\t\\tJu e 17th, 2022\\t\\t\\t\\t\\n\\n\\n\\nI hate apple.',\n",
       " 'Every mo th they take out of my ba k accou t sig ifica tly more tha  Ive bought.',\n",
       " 'Its becomi g ridiculous but why try a d reach out a d ask why whe  they have the worst respo se team i  the world.',\n",
       " 'Apple is garbage a d Im looki',\n",
       " 'g i to switchi g to a droid.',\n",
       " 'Im sure they would t steal mo ey the way apple does.',\n",
       " 'Im so frustrated with this compa y. Ho estly, apple go f yourself\\n\\n\\n\\n\\n\\n\\n\\n\\n\\n\\n\\n\\n\\n\\n\\n\\n\\nService\\n\\n\\n\\n\\n\\n\\n\\n\\n\\n\\n\\n\\n\\n\\n\\nValue\\n\\n\\n\\n\\n\\n\\n\\n\\n\\n\\n\\n\\n\\n\\n\\nShippi g',\n",
       " 'Retur s\\n\\n\\n\\n\\n\\n\\n\\n\\n\\n\\n\\n\\n\\n\\n\\nQuality\\n\\n\\n\\n\\n\\n\\n\\n\\n\\nComme t \\n\\n Tha k you \\n\\nRespo d as compa y \\n\\n Share \\n\\n \\n\\n\\n\\n Helpful  (1)',\n",
       " 'Tha k you \\n\\n\\n\\n\\n\\n\\n\\n\\n\\n\\n\\n\\n\\n\\n \\n\\n\\n\\nAivy\\xa0H. \\n\\n\\n\\n1 review\\n\\n\\n\\n0 helpful votes\\n\\n\\n\\n\\nShare \\n\\nMessage \\n\\n\\n\\n\\n\\nReport \\n\\n\\n\\n\\n\\n\\n“Mac Pro 13 irreparable WiFi problem” \\n\\n\\n\\n\\n\\n\\n\\n\\n\\n\\n\\n\\n\\n\\n\\n\\t\\t\\t\\t\\tJuly 17th, 2022\\t\\t\\t\\t\\n\\n\\n\\nI purchase Mac',\n",
       " 'Pro 13 i  July 2014 a d just after I registered it with the upcomi',\n",
       " 'g July Cal Bar exam a d dow load the exams, the Wi-Fi stopped worki g. I called for tech ical support but the tech icia  could  ot fix it.',\n",
       " 'He scheduled a reservatio  for me with a  Apple store i  Berli ggame to bri',\n",
       " 'g',\n",
       " 'i  for repair.',\n",
       " 'U fortu ately it co firmed the Wi-Fi problem is irreparable, a d the hard drive  eeds to be replaced, but Apple  o lo ger makes replaceme t parts for that model.',\n",
       " 'So this Mac Pro, ca   o lo ger have Wi-Fi.',\n",
       " 'I was seei g red at the store, thi ki',\n",
       " 'g',\n",
       " 'I was ripped.',\n",
       " 'I spe t almost $1400 for it,  ow its i  the eight year, a d at this critical mome t the Wi-Fi crushed a d Apple could  ot repair it.',\n",
       " 'I do t thi k',\n",
       " 'I will buy a y Apple products from  ow o .',\n",
       " 'They are expe sive, though look fa cy, some are pote tially defective.',\n",
       " 'Comme t \\n\\n Tha k you \\n\\nRespo d as compa y \\n\\n Share \\n\\n \\n\\n\\n\\n Helpful  (0)',\n",
       " 'Tha k you \\n\\n\\n\\n\\n\\n\\n\\n\\n\\n\\n\\n\\n\\n\\n\\n\\n\\n\\n\\n\\n\\n\\n \\n\\n\\n\\nLaz\\xa0L. \\n\\n\\n\\n1 review\\n\\n\\n\\n1 helpful vote\\n\\n\\n\\n\\nShare \\n\\nMessage \\n\\n\\n\\n\\n\\nReport',\n",
       " '“Apple does  ot care for its customers” \\n\\n\\n\\n\\n\\n\\n\\n\\n\\n\\n\\n\\n\\n\\n\\n\\t\\t\\t\\t\\tMay 26th, 2022\\t\\t\\t\\t\\n\\n\\n\\nI had heard that Apple had terrible customer service',\n",
       " 'but I did t k',\n",
       " 'ow how bad it really was u til today.',\n",
       " 'I lost my apple watch due to the awful wristba d it comes with a d the fi',\n",
       " 'd',\n",
       " 'my watch feature did  ot work.',\n",
       " 'I called apple support to see if there is a ythi g they ca  do to help me a d they did  ot at all.',\n",
       " 'It was  ot represe tative its apples policy.',\n",
       " 'This was a very awful experie ce a d will  o lo ger use this bra d.\\n\\n\\n\\n\\n\\n\\n\\n\\n\\n\\n\\n\\n\\n\\n\\n\\n\\nService\\n\\n\\n\\n\\n\\n\\n\\n\\n\\n\\n\\n\\n\\n\\n\\nValue\\n\\n\\n\\n\\n\\n\\n\\n\\n\\n\\n\\n\\n\\n\\n\\nShippi g',\n",
       " 'Retur s\\n\\n\\n\\n\\n\\n\\n\\n\\n\\n\\n\\n\\n\\n\\n\\nQuality\\n\\n\\n\\n\\n\\n\\n\\n\\n\\nComme t \\n\\n Tha k you \\n\\nRespo d as compa y \\n\\n Share \\n\\n \\n\\n\\n\\n Helpful  (1)',\n",
       " 'Tha k you \\n\\n\\n\\n\\n\\n\\n\\n\\n\\n\\n\\n\\n\\n\\n \\n\\n\\n\\nMary\\xa0C. \\n\\n\\n\\n1 review\\n\\n\\n\\n2 helpful votes\\n\\n\\n\\n\\nShare \\n\\nMessage \\n\\n\\n\\n\\n\\nReport \\n\\n\\n\\n\\n\\n\\n“Mostly good products, but” \\n\\n\\n\\n\\n\\n\\n\\n\\n\\n\\n\\n\\n\\n\\n\\n\\t\\t\\t\\t\\tJu e 10th, 2021',\n",
       " 'If you buy a  expe sive product a d it fails, Apple is u willi g to offer a y support beyo d the warra ty.',\n",
       " 'Eve  though it was supposed to be covered by AppleCare+ a d they failed to i clude it, a d there was a commitme t that the keyboard which failed before was ree',\n",
       " 'gi eered a d is  ow',\n",
       " 'just fi',\n",
       " 'e.',\n",
       " 'It is  ot fi e a d they wa t $270 to replace it.',\n",
       " 'Not a cha ce.',\n",
       " 'Apple should be ashamed of themselves for their support of such shoddy workma ship.',\n",
       " 'Comme t \\n\\n Tha k you \\n\\nRespo d as compa y \\n\\n Share \\n\\n \\n\\n\\n\\n Helpful  (2)',\n",
       " 'Tha k you \\n\\n\\n\\n\\n\\n\\n\\n\\n\\n\\n\\n\\n\\n\\n \\n\\n\\n\\nKateli \\xa0V. \\n\\n\\n\\n1 review\\n\\n\\n\\n1 helpful vote\\n\\n\\n\\n\\nShare \\n\\nMessage \\n\\n\\n\\n\\n\\nReport',\n",
       " '“Se ds a pho e without a worki g sim card” \\n\\n\\n\\n\\n\\n\\n\\n\\n\\n\\n\\n\\n\\n\\n\\n\\t\\t\\t\\t\\tApril 27th, 2022',\n",
       " 'My title of my review says it all.',\n",
       " 'Its bee  2 days a d still  ot able to have a worki g pho e. Ill be switchi g to a droid.',\n",
       " 'My  ew iPho e 13 pro also did t come with a ythi g to charge my pho e. Which is hilarious whe  my chargi g cable from my iPho e XS charged it',\n",
       " 'just fi e. Apple is just a mo ey hu',\n",
       " 'gry compa y that thi ks they ow  the i dustry the pho es.',\n",
       " 'Screw them.',\n",
       " 'Ill take my busi ess elsewhere after bei g a customer for 27 years.',\n",
       " 'Comme t \\n\\n Tha k you \\n\\nRespo d as compa y \\n\\n Share \\n\\n \\n\\n\\n\\n Helpful  (1)',\n",
       " 'Tha k you \\n\\n\\n\\n\\n\\n\\n\\n\\n\\n\\n\\n\\n\\n\\n \\n\\n\\n\\nSa dy\\xa0O. \\n\\n\\n\\n1 review\\n\\n\\n\\n0 helpful votes\\n\\n\\n\\n\\nShare \\n\\nMessage \\n\\n\\n\\n\\n\\nReport \\n\\n\\n\\n\\n\\n\\n“High quality” \\n\\n\\n\\n\\n\\n\\n\\n\\n\\n\\n\\n\\n\\n\\n\\n\\t\\t\\t\\t\\tMarch 7th, 2021',\n",
       " 'I purchased their apple watch series 6  ike editio , it has bee  very helpful i  my workouts, a d also helps me read my text messages without getti g the pho e out of my pocket.',\n",
       " 'The ba ds are also very stro g a d durable,  ot a scratch so far.',\n",
       " 'I tegrates well with the rest of my apple products i cludi g a  imac a d a  ipho e xs max.',\n",
       " 'Tip for co sumers:No e at the mome t\\nProducts used:Apple watch series 6 with the space grey sport',\n",
       " 'ba d\\n\\n\\n\\n\\n\\n\\n\\n\\n\\n\\n\\n\\n\\n\\n\\n\\nService\\n\\n\\n\\n\\n\\n\\n\\n\\n\\n\\n\\n\\n\\n\\n\\nValue\\n\\n\\n\\n\\n\\n\\n\\n\\n\\n\\n\\n\\n\\n\\n\\nShippi g\\n\\n\\n\\n\\n\\n\\n\\n\\n\\n\\n\\n\\n\\n\\n\\n\\n\\nQuality\\n\\n\\n\\n\\n\\n\\n\\n\\n\\n \\n\\n\\n\\n\\n\\nComme t',\n",
       " 'Tha k you \\n\\nRespo d as compa y \\n\\n Share \\n\\n \\n\\n\\n\\n Helpful  (0)',\n",
       " 'Tha k you \\n\\n\\n\\n\\n\\n\\n\\n\\n\\n\\n\\n\\n\\n\\n \\n\\n\\n\\nAlex\\xa0F. \\n\\n\\n\\n1 review\\n\\n\\n\\n13 helpful votes\\n\\n\\n\\n\\nShare \\n\\nMessage \\n\\n\\n\\n\\n\\nReport \\n\\n\\n\\n\\n\\n\\n“Apple thi ks youre a  idiot” \\n\\n\\n\\n\\n\\n\\n\\n\\n\\n\\n\\n\\n\\n\\n\\n\\t\\t\\t\\t\\tAugust 14th, 2020',\n",
       " 'Apple screws its customers o  a regular basis wether its faulty decayi g batteries or a BS temporary hardware update.',\n",
       " 'How is it a  improveme t to make a headpho e jack that makes it impossible to charge at the same time with their garbage battery?',\n",
       " 'Its so you have  o choice but to buy their  ew ge  of hardware a d docks Iproducts maki g the rest obsolete just to screw a d disrespect their customer at a ridiculous i flated price.',\n",
       " 'Apple leadership hates you a d makes their mo ey by be di g their customers over a barrel; try a d argue differe t.\\n\\n\\n\\n\\n \\n\\n\\n\\n\\n\\nComme ts (1)',\n",
       " 'Tha k you \\n\\nRespo d as compa y \\n\\n Share \\n\\n \\n\\n\\n\\n Helpful  (13)',\n",
       " 'Tha k you \\n\\n\\n\\n\\n\\n\\n\\n\\n\\n\\n\\n\\n\\n\\n \\n\\n\\n\\nAmy\\xa0L. \\n\\n\\n\\n1 review\\n\\n\\n\\n0 helpful votes\\n\\n\\n\\n\\nShare \\n\\nMessage \\n\\n\\n\\n\\n\\nReport \\n\\n\\n\\n\\n\\n\\n“No customer service at all a d very bad quality” \\n\\n\\n\\n\\n\\n\\n\\n\\n\\n\\n\\n\\n\\n\\n\\n\\t\\t\\t\\t\\tJuly 4th, 2022\\t\\t\\t\\t\\n\\n\\n\\nI bought i pad 7th ge eratio',\n",
       " 'i  2020, a d rece tly it is total dead, i we t to store, tech icia  told me they  ever repair ipad.',\n",
       " 'I called service  umber, a d wa t to file complai t, the girl tra sferred me to support team, they asked what issue is, i told him, he just held me, a d ha g up.',\n",
       " '$#*!',\n",
       " 'service at all, the  i call service  umber agai , robot voice said could  ot co  ect my call.',\n",
       " 'It is worst worst service i ever experie ce.',\n",
       " 'Really could  ot accept ipad was dead o ly used 2 years, a d such such terrible service.',\n",
       " 'If i could give 0 star, i will do that.',\n",
       " 'Products used:ipad\\n\\n\\n\\n\\n\\n\\n\\n\\n\\n\\n\\n\\n\\n\\n\\n\\nService\\n\\n\\n\\n\\n\\n\\n\\n\\n\\n\\n\\n\\n\\n\\n\\nQuality\\n\\n\\n\\n\\n\\n\\n\\n\\n\\nComme t \\n\\n Tha k you \\n\\nRespo d as compa y \\n\\n Share \\n\\n \\n\\n\\n\\n Helpful  (0)',\n",
       " 'Tha k you \\n\\n\\n\\n\\n\\n\\n\\n\\n\\n\\n\\n\\n\\n\\n \\n\\n\\n\\nSea \\xa0M. \\n\\n\\n\\n2 reviews\\n\\n\\n\\n0 helpful votes\\n\\n\\n\\n\\nShare \\n\\nMessage \\n\\n\\n\\n\\n\\nReport \\n\\n\\n\\n\\n\\n\\n“Deceitful” \\n\\n\\n\\n\\n\\n\\n\\n\\n\\n\\n\\n\\n\\n\\n\\n\\t\\t\\t\\t\\tJuly 18th, 2022',\n",
       " 'Apples advertisi g for these product applicatio s does  ot i form subscribers that purchased co te t (DRM) is  ot compatible with these programs.',\n",
       " 'They k ow this a d',\n",
       " 'still they sell it.',\n",
       " 'If they or their ma ageme t were to co sider the reaso  for a yo e to purchase this program, the reaso  i  the majority of cases is so they ca  project the videos that they have purchased already o  a larger scree .',\n",
       " 'It would be of i terest to people buyi g this applicatio , What very limited videos would actually display for them o  the larger scree  --  ot',\n",
       " 'very ma',\n",
       " 'y',\n",
       " 'I thi k.\\n\\n\\n\\n\\n\\n\\n\\n\\n\\n\\n\\n\\n\\n\\n\\n\\n\\nService\\n\\n\\n\\n\\n\\n\\n\\n\\n\\n\\n\\n\\n\\n\\n\\nValue\\n\\n\\n\\n\\n\\n\\n\\n\\n\\n\\n\\n\\n\\n\\n\\nQuality\\n\\n\\n\\n\\n\\n\\n\\n\\n\\n\\n\\nComme t',\n",
       " 'Tha k you \\n\\nRespo d as compa y \\n\\n Share \\n\\n \\n\\n\\n\\n Helpful  (0)',\n",
       " 'Tha k you \\n\\n\\n\\n\\n\\n\\n\\n\\n\\n\\n\\n\\n\\n\\n \\n\\n\\n\\nMark\\xa0B. \\n\\n\\n\\n2 reviews\\n\\n\\n\\n1 helpful vote\\n\\n\\n\\n\\nShare \\n\\nMessage \\n\\n\\n\\n\\n\\nReport \\n\\n\\n\\n\\n\\n\\n“Charger Adapter a d lig i g cable life” \\n\\n\\n\\n\\n\\n\\n\\n\\n\\n\\n\\n\\n\\n\\n\\n\\t\\t\\t\\t\\tApril 16th, 2021',\n",
       " 'Hi, I am avid apple fa .',\n",
       " 'But I have bee   otici g the life of adapter a d light',\n",
       " 'i g cable is very less.',\n",
       " 'I have to replace them',\n",
       " 'thrice',\n",
       " 'i  last 2 years.',\n",
       " 'Compared with a y other mobile, they are expe sive a d are  ot lasti',\n",
       " 'g. I hope you improve your accessories quality.',\n",
       " 'I do t mi d payi g extra, but it should provide the value for mo ey.',\n",
       " 'Tip for co sumers:Take proper care of your accessories as they ca  get damaged quickly.',\n",
       " 'Products used:Applie iPho e, Adapter, Light i g Cable, Apple watch, iMac\\n\\n\\n\\n\\n\\n\\n\\n\\n\\n\\n\\n\\n\\n\\n\\n\\nService\\n\\n\\n\\n\\n\\n\\n\\n\\n\\n\\n\\n\\n\\n\\n\\nValue\\n\\n\\n\\n\\n\\n\\n\\n\\n\\n\\n\\n\\n\\n\\n\\nShippi g\\n\\n\\n\\n\\n\\n\\n\\n\\n\\n\\n\\n\\n\\n\\n\\n\\n\\nRetur s\\n\\n\\n\\n\\n\\n\\n\\n\\n\\n\\n\\n\\n\\n\\n\\nQuality\\n\\n\\n\\n\\n\\n\\n\\n\\n\\nComme t',\n",
       " 'Tha k you \\n\\nRespo d as compa y \\n\\n Share \\n\\n \\n\\n\\n\\n Helpful  (1)',\n",
       " 'Tha k you \\n\\n\\n\\n\\n\\n\\n\\n\\n\\n\\n\\n\\n\\n\\n \\n\\n\\n\\nIa \\xa0H. \\n\\n\\n\\n1 review\\n\\n\\n\\n0 helpful votes\\n\\n\\n\\n\\nShare \\n\\nMessage \\n\\n\\n\\n\\n\\nReport \\n\\n\\n\\n\\n\\n\\n“Apple trade i  = SCAM” \\n\\n\\n\\n\\n\\n\\n\\n\\n\\n\\n\\n\\n\\n\\n\\n\\t\\t\\t\\t\\tJuly 6th, 2022',\n",
       " 'I purchased a  ew Apple iPho e 13 pro Max last week o li e from Apple, they offered me £180 trade i  for my iPho e 11, which is i  good co ditio .',\n",
       " 'I reset the pho e to factory, boxed it up i  their retur  pack a d se t it off.',\n",
       " 'This mor',\n",
       " 'i g',\n",
       " 'I got a revised trade i  price of £. 00',\n",
       " 'yes £ 0.00, would I like to accept or reject the revised trade i  price!',\n",
       " 'Of course I rejected, the reaso  for the revised price was that I did t delete the data!',\n",
       " 'Absolute rubbish, I reset it myself, I obviously would t wa t all my files a d photos',\n",
       " 'goi g to a yo e.\\n\\nI the  co tacted Apple to ca cel my  ew pho e which I was usi g ( withi  the 14 day retur  period) the retur  was started a d UPS are collecti g the iPho e',\n",
       " '13 tomorrow, mea while I am without a pho e, my trade i  could take 5 worki g days to be retur ed, a d to cap it all they have stole  the £180 out of my ba k accou t today, whe  I co tacted them agai  they said it would be refu ded whe  they got their pho e back!',\n",
       " 'Disgusti g behaviour from Apple.',\n",
       " 'Pretty sure their  Trade',\n",
       " 'i  Part er whoever that is is ru  i g some ki d of scam to get free pho es people trade i  by maki g up lies.',\n",
       " 'I will  ever deal with Apple agai , avoid at all cost!',\n",
       " 'Service\\n\\n\\n\\n\\n\\n\\n\\n\\n\\n\\n\\n\\n\\n\\n\\nValue\\n\\n\\n\\n\\n\\n\\n\\n\\n\\n\\n\\n\\n\\n\\n\\nShippi g\\n\\n\\n\\n\\n\\n\\n\\n\\n\\n\\n\\n\\n\\n\\n\\n\\n\\nRetur s\\n\\n\\n\\n\\n\\n\\n\\n\\n\\n\\n\\n\\n\\n\\n\\nQuality\\n\\n\\n\\n\\n\\n\\n\\n\\n\\n\\n\\nComme t \\n\\n Tha k you \\n\\nRespo d as compa y \\n\\n Share \\n\\n \\n\\n\\n\\n Helpful  (0)',\n",
       " 'Tha k you \\n\\n\\n\\n\\n\\n\\n\\n\\n\\n\\n\\n\\n\\n\\n \\n\\n\\n\\nMahsa\\xa0N. \\n\\n\\n\\n1 review\\n\\n\\n\\n9 helpful votes\\n\\n\\n\\n\\nShare \\n\\nMessage \\n\\n\\n\\n\\n\\nReport',\n",
       " '“They did  ot take care of their customers” \\n\\n\\n\\n\\n\\n\\n\\n\\n\\n\\n\\n\\n\\n\\n\\n\\t\\t\\t\\t\\tDecember 2 d, 2020',\n",
       " 'I ordered my pho e more tha  a mo th ago (oct 24)a d the pho e was at my  earest post office but they  ever deliver.',\n",
       " 'They retur  the pho e a d',\n",
       " 'ow they are sayi g that we do t k ow what happe ed.',\n",
       " 'I called them ma y times also I chat with them 4 times a d they  ever solved my problem.',\n",
       " 'Ma ager supposed to call',\n",
       " 'but I  ever received the call.',\n",
       " 'I am worki g with my pho e a d si ce my previous o e is broke  I  eed to purchase extra temporary pho',\n",
       " 'e. I am Apple customer for 9 years a d they did  ot take care of my problem.',\n",
       " 'This is u acceptable\\n\\n\\n\\n\\n \\n\\n\\n\\n\\n\\nComme t \\n\\n Tha k you \\n\\nRespo d as compa y \\n\\n Share \\n\\n \\n\\n\\n\\n Helpful  (9)',\n",
       " 'Tha k you \\n\\n\\n\\n\\n\\n\\n\\n\\n\\n\\n\\n\\n\\n\\n \\n\\n\\n\\nyour\\xa0w. \\n\\n\\n\\n1 review\\n\\n\\n\\n0 helpful votes\\n\\n\\n\\n\\nShare \\n\\nMessage \\n\\n\\n\\n\\n\\nReport \\n\\n\\n\\n\\n\\n\\n“$#*!',\n",
       " 'i g sucks” \\n\\n\\n\\n\\n\\n\\n\\n\\n\\n\\n\\n\\n\\n\\n\\n\\t\\t\\t\\t\\tAugust 20th, 2022',\n",
       " 'These sorry $#*!',\n",
       " '$#*!',\n",
       " 'ers o  apple say that ca  ot reset my accou t that i have  ot bee',\n",
       " 'o  i  15 yrs',\n",
       " 'cause i did t k',\n",
       " 'ow i had the accou t. I have tried every password a d a swer questio s with every password i would k',\n",
       " 'ow.',\n",
       " 'Eve  called apple to get them to help a d them idiots wa  a say they ca t do it that i have to create a whole  other email to make a  accou t to use.',\n",
       " 'The people that work for apple are plai  stupid\\n\\n\\n\\n\\nComme t \\n\\n Tha k you \\n\\nRespo d as compa y \\n\\n Share \\n\\n \\n\\n\\n\\n Helpful  (0)',\n",
       " 'Tha k you \\n\\n\\n\\n\\n\\n\\n\\n\\n\\n\\n\\n\\n\\n\\n \\n\\n\\n\\nZachary\\xa0S. \\n\\n\\n\\n1 review\\n\\n\\n\\n23 helpful votes\\n\\n\\n\\n\\nShare \\n\\nMessage \\n\\n\\n\\n\\n\\nReport \\n\\n\\n\\n\\n\\n\\n“Flayed Alive” \\n\\n\\n\\n\\n\\n\\n\\n\\n\\n\\n\\n\\n\\n\\n\\n\\t\\t\\t\\t\\tJuly 7th, 2020',\n",
       " 'I bought power beats pro.',\n",
       " 'They are dece t quality, but the left ear bud started malfu',\n",
       " 'ctio',\n",
       " 'i',\n",
       " 'g after about 6 mo ths.',\n",
       " 'The right o e does t hold a charge, but for half the time its supposed to.',\n",
       " 'Getti g them replaced is worse tha  bei g flayed alive.',\n",
       " 'They make it virtually impossible, so as to discourage you from eve  tryi g.',\n",
       " 'So ya, Id rather be flayed alive tha  purchase a other item from apple.',\n",
       " 'Comme ts (1) \\n\\n Tha k you \\n\\nRespo d as compa y \\n\\n Share \\n\\n \\n\\n\\n\\n Helpful  (23)',\n",
       " 'Tha k you \\n\\n\\n\\n\\n\\n\\n\\n\\n\\n\\n\\n\\n\\n\\n \\n\\n\\n\\nKhurshid\\xa0S. \\n\\n\\n\\n1 review\\n\\n\\n\\n2 helpful votes\\n\\n\\n\\n\\nShare \\n\\nMessage \\n\\n\\n\\n\\n\\nReport \\n\\n\\n\\n\\n\\n\\n“Apple is a loser compa y” \\n\\n\\n\\n\\n\\n\\n\\n\\n\\n\\n\\n\\n\\n\\n\\n\\t\\t\\t\\t\\tOctober 14th, 2021\\t\\t\\t\\t\\n\\n\\n\\nI lost my iPho e XR whe  I tried to upgrade to apple latest IOS 15\\nUpgrade.',\n",
       " 'I paid $800 dollars for this pho e. Apple is sayi g they\\nCa  ot do a ythi g about it because my pho e is  ot u der\\nWarra ty.',\n",
       " 'I got a  u k ow  error while upgradi g a d  ow my\\nPho e is locked.',\n",
       " 'My questio s is why they released ios 15\\nUpgrade whe  it is destroyi g older model pho es.',\n",
       " 'I literally had spe t thousa d of dollars o  apple products a d this is what I get retur .',\n",
       " 'I wa ted to\\nBe compe sated for my a guish, lost data a d lost of pho e\\nBecause of this loser upgrade.',\n",
       " 'Tip for co sumers:Do Not buy apple products.',\n",
       " 'The products are  ot worth the mo ey',\n",
       " '.\\nProducts used:Apple iPho es, Apple watch, Apple computers.',\n",
       " 'Service\\n\\n\\n\\n\\n\\n\\n\\n\\n\\n\\n\\n\\n\\n\\n\\nValue\\n\\n\\n\\n\\n\\n\\n\\n\\n\\n\\n\\n\\n\\n\\n\\nShippi g\\n\\n\\n\\n\\n\\n\\n\\n\\n\\n\\n\\n\\n\\n\\n\\n\\n\\nRetur s\\n\\n\\n\\n\\n\\n\\n\\n\\n\\n\\n\\n\\n\\n\\n\\nQuality\\n\\n\\n\\n\\n\\n\\n\\n\\n\\n \\n\\n\\n\\n\\n\\nComme t \\n\\n Tha k you \\n\\nRespo d as compa y \\n\\n Share \\n\\n \\n\\n\\n\\n Helpful  (2)',\n",
       " 'Tha k you \\n\\n\\n\\n\\n\\n\\n\\n\\n\\n\\n\\n\\n\\n\\n \\n\\n\\n\\nChris\\xa0P. \\n\\n\\n\\n21 reviews\\n\\n\\n\\n44 helpful votes\\n\\n\\n\\n\\nShare \\n\\nMessage \\n\\n\\n\\n\\n\\nReport \\n\\n\\n\\n\\n\\n\\n“High Quality Tech Products At High Prices” \\n\\n\\n\\n\\n\\n\\n\\n\\n\\n\\n\\n\\n\\n\\n\\n\\t\\t\\t\\t\\tJu e 26th, 2022',\n",
       " 'I have bought my Airtags, ipho e 12 Pro Max, Magic Keyboard, a d Magic Mouse 2 all directly from the Apple website (a d picked them up i -store).',\n",
       " 'The websites UI is super simple a d well orga ized, which makes the o li e shoppi g experie ce so much better.',\n",
       " 'The prices are extremely high, but i  my opi io , you get what you pay for.',\n",
       " 'I am  ow o  my seco',\n",
       " 'd Macbook ( o lo ger stored i  orders o  the site because I bought it back i  2019).',\n",
       " 'My first lasted 8 years a d Im hopi g to have my seco',\n",
       " 'd o e for just as lo g if  ot lo ger.',\n",
       " 'Every other laptop bra d Ive had (HP, Dell, Le ovo, a d IBM) just is t up to par a d always, ALWAYS has problems.',\n",
       " 'Its worth payi g the higher prices to  ot have to deal with the headaches.',\n",
       " 'Plus, eve  if your warra ty ru s out, if you go to a  Apple store, they still try to help you with whatever your product is,  o matter how old it is.',\n",
       " 'Now that is high quality customer service.',\n",
       " 'Tip for co sumers:People i to tech, Apple fa s\\nProducts used:Laptop Computers:',\n",
       " 'Macbook Pro 2011 13\", Macbook Pro 2019 15\"\\r\\nMobile Pho es: iPho e 4, iPho e 6+, iPho e 12 Pro Max\\r\\nHeadpho es: 2 d Ge eratio  Airpods, Apple headpho es (wired)\\r\\niPods: iPod Touch\\r\\nOther: Magic Keyboard, Magic Mouse 2,\\n\\n\\n\\n\\n\\n\\n\\n\\n\\n\\n\\n\\n\\n\\n\\n\\nService\\n\\n\\n\\n\\n\\n\\n\\n\\n\\n\\n\\n\\n\\n\\n\\nValue\\n\\n\\n\\n\\n\\n\\n\\n\\n\\n\\n\\n\\n\\n\\n\\nShippi g\\n\\n\\n\\n\\n\\n\\n\\n\\n\\n\\n\\n\\n\\n\\n\\n\\n\\nRetur s\\n\\n\\n\\n\\n\\n\\n\\n\\n\\n\\n\\n\\n\\n\\n\\nQuality\\n\\n\\n\\n\\n\\n\\n\\n\\n\\n \\n\\n\\n\\n\\n\\nComme t',\n",
       " 'Tha k you \\n\\nRespo d as compa y \\n\\n Share \\n\\n \\n\\n\\n\\n Helpful  (0)',\n",
       " 'Tha k you \\n\\n\\n\\n\\n\\n\\n\\n\\n\\n\\nPrevious \\n\\n123456...',\n",
       " '71 \\n\\nNext \\n\\n \\n\\n\\n\\nQ&A (15)\\n\\n\\n\\n \\n\\n\\n\\n\\nQuestio :\\n\\nI am a fa  of apple year three.',\n",
       " 'u til that time, all was completely satisfied, a d whe  a  ew model is  ot eve  thought at first to cha ge their 5s o  the  ew flagship.',\n",
       " 'but the  still tempted by exami i g all the adva tages of  ew items.',\n",
       " 'walki',\n",
       " 'g o  the i ter et, i decided to make a purchase',\n",
       " 'i  a store ebay.com\\nI am a fa  of apple year three.',\n",
       " 'u til that time, all was completely satisfied, a d whe  a  ew model is  ot eve  thought at first to cha ge their 5s o  the  ew flagship.',\n",
       " 'but the  still tempted by exami i g all the adva tages of  ew items.',\n",
       " 'walki',\n",
       " 'g o  the i ter et, i decided to make a purchase',\n",
       " 'i  a store ebay.com \\n\\n\\nA swer:',\n",
       " 'Is this a questio  or a problem.',\n",
       " 'By\\n\\t\\t\\t\\t\\nkristal\\xa0d. \\n\\n\\t\\t\\t\\t\\tover a year old\\t\\t\\t\\t\\n\\nSee more a swers (3)  \\n\\n\\n \\n\\nQuestio :\\n\\nI  eeed a  aple tablet\\ndo u ve such products\\nI  eeed a  aple tablet\\ndo u ve such products \\n\\n\\nA swer:\\n\\n\\nBuy a  iPad.',\n",
       " 'I believe that is what you wa t as thats their o ly device that looks like a \"tablet\".',\n",
       " 'By\\n\\t\\t\\t\\t\\nDa',\n",
       " 'iel\\xa0S. \\n\\n\\t\\t\\t\\t\\tover a year old\\t\\t\\t\\t\\n\\n \\n\\n\\n\\n\\nQuestio :',\n",
       " 'Hello i have ipho e 7 but after updati g it was locked i forgot icloud password',\n",
       " 'pls help me',\n",
       " 'Hello i have ipho e 7 but after updati g it was locked i forgot icloud password',\n",
       " 'pls help me \\n\\n\\nA swer:\\n\\n\\nThere  o help same thi g here called everyday for a week a d eve  talked to supervisors a d  o resolutio .',\n",
       " 'This compa y is the best marketi g rip-ever.',\n",
       " 'Same issue with ipad.',\n",
       " '$2000. 00 of worthless equipme t. Never agai \\n\\n\\n\\t\\t\\t\\tBy\\n\\t\\t\\t\\t\\nVictor\\xa0K. \\n\\n\\t\\t\\t\\t\\to  5 1 22\\t\\t\\t\\t\\n\\nSee more a swers (2)  \\n\\n\\n\\n\\nQuestio :\\n\\nI wa t to buy a apple pho e.\\nI wa t to buy a apple pho e. \\n\\n\\nA swer:\\n\\n\\nGo buy a  Apple pho',\n",
       " 'e the , whats stoppi g you?',\n",
       " 'A swer: Nothi g.\\n\\n\\n\\t\\t\\t\\tBy\\n\\t\\t\\t\\t\\nA do\\xa0P. \\n\\n\\t\\t\\t\\t\\tover a year old\\t\\t\\t\\t\\n\\nSee more a swers (2)  \\n\\n\\n\\n\\nQuestio :\\n\\nWhat made you choice a  ipho e from a samsu g pho e as they are usually priced similarly?',\n",
       " 'What made you choice a  ipho e from a samsu g pho e as they are usually priced similarly?',\n",
       " 'A swer:\\n\\n\\nIPho es are more reliable a d they last lo ger (mai ly because of the software, a d the software updates).',\n",
       " 'Moreover, Apple has better warra ties, better customer service, a d their product have a better resell value.',\n",
       " 'By\\n\\t\\t\\t\\t\\nSha e\\xa0P. \\n\\n\\t\\t\\t\\t\\tover a year old\\t\\t\\t\\t\\n\\n \\n\\n\\n\\n\\nQuestio :\\n\\nHow lo g does shippi',\n",
       " 'g take?',\n",
       " 'How lo g does shippi g take?',\n",
       " 'A swer:\\n\\n\\nUsually you get it  ext day if its purchased directly from Apple.',\n",
       " 'If its lo ger, they will  otify you before you checkout.',\n",
       " 'By\\n\\t\\t\\t\\t\\nJames\\xa0H. \\n\\n\\t\\t\\t\\t\\tover a year old\\t\\t\\t\\t\\n\\n \\n\\n\\n\\n\\nQuestio :',\n",
       " 'Hi i wa t to k ow about o e of your sales ma ager who sahil mohammad marif.',\n",
       " '',\n",
       " 'Questio :\\n\\nI have lost my ipho e co tacts  umbers.its o ly showi g  ames.so how ca  i fix it?',\n",
       " '',\n",
       " 'Questio :\\n\\nMy ipho e is locked, says it  eeds a passcode.',\n",
       " 'i do t have a passcode.',\n",
       " 'how did this happe ?',\n",
       " 'what do i do  ow?',\n",
       " 'Questio :\\n\\nWhat is this ik apple is amazi g',\n",
       " 'but this is the ipho es \\n\\n\\n\\n\\n\\n\\n\\t\\t\\t\\tCa ’t see your questio ?',\n",
       " 'Ask to get a swers from the Apple staff a d other customers.',\n",
       " 'Get  otified about  ew a swers to your questio s.',\n",
       " 'Ask Questio  \\nPosti g guideli es \\n\\n\\tTypical questio',\n",
       " 's asked:\\n\\t\\nHow lo g does shippi g take?',\n",
       " 'What is the retur  policy?\\nWhere is the compa y located?',\n",
       " 'Show all questio s (15) \\n\\n\\n\\n\\n\\n\\nSitejabber for Busi ess\\nGai  trust a d grow your busi ess with customer reviews\\n\\nStart free accou t \\n\\n\\n \\n\\n\\nAbout the busi',\n",
       " 'ess\\n\\n    \\nhttps:  t.co jw2s2L0RLt\\n\\n\\n Visit Website \\n\\n Electro ics, Mobile Pho es, Tablets \\n\\n Cuperti o, CA, U ited States \\t\\t\\t\\t\\t\\n\\n Edit busi',\n",
       " 'ess',\n",
       " 'i fo',\n",
       " 'How do I k ow I ca  trust these reviews about Apple?\\n\\n\\n\\t\\t\\t\\t\\t\\tSitejabber’s sole missio  is to i crease o li e tra spare cy for co sumers a d busi esses\\n\\t\\t\\t\\t\\t\\n\\n\\t\\t\\t\\t\\t\\tSitejabber has helped over 100M co sumers make better purchasi',\n",
       " 'g decisio s',\n",
       " 'o li e\\n\\t\\t\\t\\t\\t\\n\\n\\t\\t\\t\\t\\t\\tSuspicious reviews are flagged by our algorithms, moderators, a d commu ity members\\n\\t\\t\\t\\t\\t\\n\\n\\n\\t\\t\\t\\t\\tTo fi d',\n",
       " 'more i formatio  about reviews a d trust o  Sitejabber.com please visit about us \\n\\n\\n See reviews as you browse with our Chrome exte sio \\n\\n\\n3.5\\n\\n\\n\\n\\n\\n\\n\\n\\n\\n\\n\\n\\n\\n\\n1,818 reviews\\n\\n\\n\\n Add Exte sio  \\n\\n\\n\\n\\nHave a questio  about Apple?',\n",
       " 'Ask Questio \\n  \\n\\n\\n\\n\\n\\nIs this your busi',\n",
       " 'ess?\\nClaim your listi g for free to respo d to reviews, update your profile a d ma age your listi g.',\n",
       " 'Claim Your Busi ess \\n\\n\\n\\n\\n\\n\\n\\n\\t\\t\\tApple\\t\\t\\n\\nOverview \\n\\nReviews \\n\\nQ&A \\n\\n\\n\\n\\n\\n\\n\\n\\n\\n \\n\\n\\n\\n\\n\\nResources\\n\\n\\nWrite a Review \\n\\nBrowser Exte',\n",
       " 'sio  \\n\\nCo sumer News \\n\\nBest Sites of 2021 \\n\\nFAQ \\n\\nCo sumer Support \\n\\n\\n\\nCompa',\n",
       " 'y\\n\\n\\nAbout Us \\n\\nNews \\n\\nPress \\n\\nCareers \\n\\nCo tact Us \\n\\n\\n\\nBusi',\n",
       " 'ess',\n",
       " 'Ow ers\\n\\n\\nHome',\n",
       " 'Claim Your Busi ess',\n",
       " 'Busi',\n",
       " 'ess Support \\n\\nBusi ess FAQ',\n",
       " 'O li e Review Statistics \\n\\nSitejabber vs Trustpilot \\n\\n\\n\\nI  the News\\n\\n\\n\\n\\n\\n \\n\\n\\n\\n\\n \\n\\n\\n\\n    \\n\\n\\nSitemap:\\n\\n\\n# \\n\\nA \\n\\nB \\n\\nC \\n\\nD \\n\\nE \\n\\nF \\n\\nG \\n\\nH',\n",
       " 'I \\n\\nJ \\n\\nK \\n\\nL \\n\\nM \\n\\nN',\n",
       " 'O \\n\\nP \\n\\nQ \\n\\nR \\n\\nS \\n\\nT \\n\\nU \\n\\nV \\n\\nW \\n\\nX \\n\\nY',\n",
       " 'Z \\n\\nNewly Added \\n\\nRece tly Updated \\n\\nQ&A \\n\\n\\n\\n\\n\\n\\n\\n \\n\\nPrivacy \\n\\nTerms \\nCopyright © 2008-2022 GGL Projects, I c.']"
      ]
     },
     "execution_count": 14,
     "metadata": {},
     "output_type": "execute_result"
    }
   ],
   "source": [
    "sentence"
   ]
  },
  {
   "cell_type": "code",
   "execution_count": 15,
   "id": "e28b6b8e",
   "metadata": {},
   "outputs": [
    {
     "name": "stdout",
     "output_type": "stream",
     "text": [
      "389\n"
     ]
    }
   ],
   "source": [
    "print(len(sentence))\n"
   ]
  },
  {
   "cell_type": "code",
   "execution_count": 16,
   "id": "4335483a",
   "metadata": {},
   "outputs": [
    {
     "name": "stdout",
     "output_type": "stream",
     "text": [
      "Sitejabber, you agree to our Terms of Service a d Privacy Policy.\n"
     ]
    }
   ],
   "source": [
    "print(sentence[2])"
   ]
  },
  {
   "cell_type": "code",
   "execution_count": 17,
   "id": "27e7575e",
   "metadata": {},
   "outputs": [],
   "source": [
    "textblob_sentiment=[]\n",
    "for s in sentence:\n",
    "    txt= TextBlob(s)\n",
    "    a= txt.sentiment.polarity\n",
    "    b= txt.sentiment.subjectivity\n",
    "    textblob_sentiment.append([s,a,b])"
   ]
  },
  {
   "cell_type": "code",
   "execution_count": 18,
   "id": "e10c99f3",
   "metadata": {},
   "outputs": [],
   "source": [
    "df_textblob = pd.DataFrame(textblob_sentiment, columns =['Sentence', 'Polarity', 'Subjectivity'])"
   ]
  },
  {
   "cell_type": "code",
   "execution_count": 19,
   "id": "0fd88fe2",
   "metadata": {},
   "outputs": [
    {
     "data": {
      "text/html": [
       "<div>\n",
       "<style scoped>\n",
       "    .dataframe tbody tr th:only-of-type {\n",
       "        vertical-align: middle;\n",
       "    }\n",
       "\n",
       "    .dataframe tbody tr th {\n",
       "        vertical-align: top;\n",
       "    }\n",
       "\n",
       "    .dataframe thead th {\n",
       "        text-align: right;\n",
       "    }\n",
       "</style>\n",
       "<table border=\"1\" class=\"dataframe\">\n",
       "  <thead>\n",
       "    <tr style=\"text-align: right;\">\n",
       "      <th></th>\n",
       "      <th>Sentence</th>\n",
       "      <th>Polarity</th>\n",
       "      <th>Subjectivity</th>\n",
       "    </tr>\n",
       "  </thead>\n",
       "  <tbody>\n",
       "    <tr>\n",
       "      <th>0</th>\n",
       "      <td>Apple Reviews - 1,826 Reviews of Apple.com | S...</td>\n",
       "      <td>0.0</td>\n",
       "      <td>0.0</td>\n",
       "    </tr>\n",
       "    <tr>\n",
       "      <th>1</th>\n",
       "      <td>By usi g</td>\n",
       "      <td>0.0</td>\n",
       "      <td>0.0</td>\n",
       "    </tr>\n",
       "    <tr>\n",
       "      <th>2</th>\n",
       "      <td>Sitejabber, you agree to our Terms of Service ...</td>\n",
       "      <td>0.0</td>\n",
       "      <td>0.0</td>\n",
       "    </tr>\n",
       "    <tr>\n",
       "      <th>3</th>\n",
       "      <td>We use cookies for a alytics, perso alizatio ,...</td>\n",
       "      <td>0.0</td>\n",
       "      <td>0.0</td>\n",
       "    </tr>\n",
       "    <tr>\n",
       "      <th>4</th>\n",
       "      <td>Logi  \\n\\nSig up \\n\\n\\nFor Busi</td>\n",
       "      <td>0.0</td>\n",
       "      <td>0.0</td>\n",
       "    </tr>\n",
       "  </tbody>\n",
       "</table>\n",
       "</div>"
      ],
      "text/plain": [
       "                                            Sentence  Polarity  Subjectivity\n",
       "0  Apple Reviews - 1,826 Reviews of Apple.com | S...       0.0           0.0\n",
       "1                                           By usi g       0.0           0.0\n",
       "2  Sitejabber, you agree to our Terms of Service ...       0.0           0.0\n",
       "3  We use cookies for a alytics, perso alizatio ,...       0.0           0.0\n",
       "4                    Logi  \\n\\nSig up \\n\\n\\nFor Busi       0.0           0.0"
      ]
     },
     "execution_count": 19,
     "metadata": {},
     "output_type": "execute_result"
    }
   ],
   "source": [
    "df_textblob.head()"
   ]
  },
  {
   "cell_type": "code",
   "execution_count": 20,
   "id": "e50e58dd",
   "metadata": {},
   "outputs": [
    {
     "name": "stdout",
     "output_type": "stream",
     "text": [
      "<class 'pandas.core.frame.DataFrame'>\n",
      "RangeIndex: 389 entries, 0 to 388\n",
      "Data columns (total 3 columns):\n",
      " #   Column        Non-Null Count  Dtype  \n",
      "---  ------        --------------  -----  \n",
      " 0   Sentence      389 non-null    object \n",
      " 1   Polarity      389 non-null    float64\n",
      " 2   Subjectivity  389 non-null    float64\n",
      "dtypes: float64(2), object(1)\n",
      "memory usage: 9.2+ KB\n"
     ]
    }
   ],
   "source": [
    "df_textblob.info()"
   ]
  },
  {
   "cell_type": "code",
   "execution_count": 21,
   "id": "8c3115d2",
   "metadata": {},
   "outputs": [
    {
     "data": {
      "text/plain": [
       "Text(0.5, 9.444444444444438, 'Sentence Polarity')"
      ]
     },
     "execution_count": 21,
     "metadata": {},
     "output_type": "execute_result"
    },
    {
     "data": {
      "image/png": "[encoded data removed]",
      "text/plain": [
       "<Figure size 900x500 with 1 Axes>"
      ]
     },
     "metadata": {},
     "output_type": "display_data"
    }
   ],
   "source": [
    "sns.displot(df_textblob[\"Polarity\"], height= 5, aspect=1.8)\n",
    "plt.xlabel(\"Sentence Polarity\")"
   ]
  },
  {
   "cell_type": "code",
   "execution_count": 22,
   "id": "5f9a3f42",
   "metadata": {},
   "outputs": [
    {
     "data": {
      "text/plain": [
       "Text(0.5, 9.444444444444438, 'Sentence Subjectivity')"
      ]
     },
     "execution_count": 22,
     "metadata": {},
     "output_type": "execute_result"
    },
    {
     "data": {
      "image/png": "[encoded data removed]",
      "text/plain": [
       "<Figure size 900x500 with 1 Axes>"
      ]
     },
     "metadata": {},
     "output_type": "display_data"
    }
   ],
   "source": [
    "sns.displot(df_textblob[\"Subjectivity\"], height= 5, aspect=1.8)\n",
    "plt.xlabel(\"Sentence Subjectivity\")"
   ]
  },
  {
   "cell_type": "code",
   "execution_count": 23,
   "id": "ab7e05da",
   "metadata": {},
   "outputs": [],
   "source": [
    "textblob_sentiment=[]\n",
    "for s in sentence:\n",
    "    txt= TextBlob(s)\n",
    "    a= txt.sentiment.polarity\n",
    "    b= txt.sentiment.subjectivity\n",
    "    textblob_sentiment.append([s,a,b])"
   ]
  },
  {
   "cell_type": "code",
   "execution_count": 24,
   "id": "ffb202b0",
   "metadata": {},
   "outputs": [],
   "source": [
    "df_textblob = pd.DataFrame(textblob_sentiment, columns =['Sentence', 'Polarity', 'Subjectivity'])"
   ]
  },
  {
   "cell_type": "code",
   "execution_count": 25,
   "id": "c655b6cc",
   "metadata": {},
   "outputs": [
    {
     "data": {
      "text/html": [
       "<div>\n",
       "<style scoped>\n",
       "    .dataframe tbody tr th:only-of-type {\n",
       "        vertical-align: middle;\n",
       "    }\n",
       "\n",
       "    .dataframe tbody tr th {\n",
       "        vertical-align: top;\n",
       "    }\n",
       "\n",
       "    .dataframe thead th {\n",
       "        text-align: right;\n",
       "    }\n",
       "</style>\n",
       "<table border=\"1\" class=\"dataframe\">\n",
       "  <thead>\n",
       "    <tr style=\"text-align: right;\">\n",
       "      <th></th>\n",
       "      <th>Sentence</th>\n",
       "      <th>Polarity</th>\n",
       "      <th>Subjectivity</th>\n",
       "    </tr>\n",
       "  </thead>\n",
       "  <tbody>\n",
       "    <tr>\n",
       "      <th>0</th>\n",
       "      <td>Apple Reviews - 1,826 Reviews of Apple.com | S...</td>\n",
       "      <td>0.0</td>\n",
       "      <td>0.0</td>\n",
       "    </tr>\n",
       "    <tr>\n",
       "      <th>1</th>\n",
       "      <td>By usi g</td>\n",
       "      <td>0.0</td>\n",
       "      <td>0.0</td>\n",
       "    </tr>\n",
       "    <tr>\n",
       "      <th>2</th>\n",
       "      <td>Sitejabber, you agree to our Terms of Service ...</td>\n",
       "      <td>0.0</td>\n",
       "      <td>0.0</td>\n",
       "    </tr>\n",
       "    <tr>\n",
       "      <th>3</th>\n",
       "      <td>We use cookies for a alytics, perso alizatio ,...</td>\n",
       "      <td>0.0</td>\n",
       "      <td>0.0</td>\n",
       "    </tr>\n",
       "    <tr>\n",
       "      <th>4</th>\n",
       "      <td>Logi  \\n\\nSig up \\n\\n\\nFor Busi</td>\n",
       "      <td>0.0</td>\n",
       "      <td>0.0</td>\n",
       "    </tr>\n",
       "  </tbody>\n",
       "</table>\n",
       "</div>"
      ],
      "text/plain": [
       "                                            Sentence  Polarity  Subjectivity\n",
       "0  Apple Reviews - 1,826 Reviews of Apple.com | S...       0.0           0.0\n",
       "1                                           By usi g       0.0           0.0\n",
       "2  Sitejabber, you agree to our Terms of Service ...       0.0           0.0\n",
       "3  We use cookies for a alytics, perso alizatio ,...       0.0           0.0\n",
       "4                    Logi  \\n\\nSig up \\n\\n\\nFor Busi       0.0           0.0"
      ]
     },
     "execution_count": 25,
     "metadata": {},
     "output_type": "execute_result"
    }
   ],
   "source": [
    "df_textblob.head()"
   ]
  },
  {
   "cell_type": "code",
   "execution_count": 26,
   "id": "f579eb5a",
   "metadata": {},
   "outputs": [
    {
     "data": {
      "text/plain": [
       "Text(0.5, 9.444444444444438, 'Sentence Polarity')"
      ]
     },
     "execution_count": 26,
     "metadata": {},
     "output_type": "execute_result"
    },
    {
     "data": {
      "image/png": "[encoded data removed]",
      "text/plain": [
       "<Figure size 900x500 with 1 Axes>"
      ]
     },
     "metadata": {},
     "output_type": "display_data"
    }
   ],
   "source": [
    "sns.displot(df_textblob[\"Polarity\"], height= 5, aspect=1.8)\n",
    "req = plt.xlabel(\"Sentence Polarity\")\n",
    "req"
   ]
  },
  {
   "cell_type": "code",
   "execution_count": 44,
   "id": "b72f93ae",
   "metadata": {},
   "outputs": [
    {
     "data": {
      "text/plain": [
       "0.00913332507966184"
      ]
     },
     "execution_count": 44,
     "metadata": {},
     "output_type": "execute_result"
    }
   ],
   "source": [
    "sum = 0\n",
    "p = 0\n",
    "x = 1\n",
    "for s in sentence:\n",
    "    txt= TextBlob(s)\n",
    "    p = p+1\n",
    "    a= txt.sentiment.polarity\n",
    "    sum = sum+a\n",
    "x = sum/p\n",
    "x"
   ]
  },
  {
   "cell_type": "code",
   "execution_count": 45,
   "id": "634d5aad",
   "metadata": {},
   "outputs": [],
   "source": [
    "import pickle\n",
    "pickle.dump(x, open('model3.pkl','wb'))"
   ]
  },
  {
   "cell_type": "code",
   "execution_count": 43,
   "id": "23eae959",
   "metadata": {},
   "outputs": [
    {
     "name": "stdout",
     "output_type": "stream",
     "text": [
      "0.00913332507966184\n"
     ]
    }
   ],
   "source": [
    "model = pickle.load(open('model3.pkl','rb'))\n",
    "print(model)"
   ]
  },
  {
   "cell_type": "code",
   "execution_count": null,
   "id": "abf005a8",
   "metadata": {},
   "outputs": [],
   "source": []
  }
 ],
 "metadata": {
  "kernelspec": {
   "display_name": "Python 3 (ipykernel)",
   "language": "python",
   "name": "python3"
  },
  "language_info": {
   "codemirror_mode": {
    "name": "ipython",
    "version": 3
   },
   "file_extension": ".py",
   "mimetype": "text/x-python",
   "name": "python",
   "nbconvert_exporter": "python",
   "pygments_lexer": "ipython3",
   "version": "3.10.4"
  }
 },
 "nbformat": 4,
 "nbformat_minor": 5
}
